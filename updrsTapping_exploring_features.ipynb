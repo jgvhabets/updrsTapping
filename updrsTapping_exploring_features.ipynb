{
 "cells": [
  {
   "cell_type": "markdown",
   "metadata": {},
   "source": [
    "## ReTap - UPDRS-Tapping Assessment - Feature Exploration\n",
    "\n",
    "This notebooks helps to visualise and statistically tst created tapping-features.\n",
    "\n"
   ]
  },
  {
   "cell_type": "markdown",
   "metadata": {},
   "source": [
    "### 0. Loading packages and functions, defining paths\n",
    "\n"
   ]
  },
  {
   "cell_type": "code",
   "execution_count": 1,
   "metadata": {},
   "outputs": [],
   "source": [
    "# Importing Python and external packages\n",
    "import os\n",
    "import sys\n",
    "import importlib\n",
    "import json\n",
    "import pandas as pd\n",
    "import numpy as np\n",
    "import itertools\n",
    "import sklearn as sk\n",
    "import scipy\n",
    "import matplotlib.pyplot as plt\n",
    "# import matplotlib.gridspec as gridspec\n",
    "\n",
    "import seaborn as sns\n",
    "from scipy import signal\n",
    "from scipy import stats\n",
    "from array import array\n",
    "import datetime as dt\n",
    "import h5py\n",
    "from dataclasses import  dataclass, field\n",
    "from itertools import compress\n",
    "from typing import Any"
   ]
  },
  {
   "cell_type": "code",
   "execution_count": 2,
   "metadata": {},
   "outputs": [
    {
     "name": "stdout",
     "output_type": "stream",
     "text": [
      "Python sys 3.9.13 (main, Oct 13 2022, 21:23:06) [MSC v.1916 64 bit (AMD64)]\n",
      "pandas 1.4.4\n",
      "numpy 1.23.3\n",
      "sci-py 1.9.1\n",
      "sci-kit learn 1.1.2\n"
     ]
    }
   ],
   "source": [
    "# check some package versions for documentation and reproducability\n",
    "print('Python sys', sys.version)\n",
    "print('pandas', pd.__version__)\n",
    "print('numpy', np.__version__)\n",
    "# print('mne_bids', mne_bids.__version__)\n",
    "# print('mne', mne.__version__)\n",
    "print('sci-py', scipy.__version__)\n",
    "print('sci-kit learn', sk.__version__)\n",
    "\n",
    "\n",
    "## developed with:\n",
    "# Python sys 3.9.7 (default, Sep 16 2021, 08:50:36) \n",
    "# [Clang 10.0.0 ]\n",
    "# pandas 1.3.4\n",
    "# numpy 1.20.3\n",
    "# mne_bids 0.9\n",
    "# mne 0.24.1\n",
    "# sci-py 1.7.1\n",
    "# sci-kit learn 1.0.1\n",
    "\n",
    "## Currently (own env) since 31.08.22\n",
    "# Python sys 3.9.12 (main, Jun  1 2022, 06:36:29) \n",
    "# [Clang 12.0.0 ]\n",
    "# pandas 1.4.3\n",
    "# numpy 1.21.5\n",
    "# sci-py 1.7.3\n",
    "# sci-kit learn 1.1.1"
   ]
  },
  {
   "cell_type": "code",
   "execution_count": 540,
   "metadata": {},
   "outputs": [],
   "source": [
    "# own data preprocessing functions\n",
    "import tap_load_data.updrsTapping_import as tap_import\n",
    "import tap_load_data.tapping_preprocess as tap_preproc\n",
    "import tap_load_data.tapping_find_blocks as find_blocks\n",
    "import tap_load_data.tapping_impact_finder as tap_impact\n",
    "import tap_load_data.tapping_time_detect as tap_times\n",
    "\n",
    "import tapping_run as tap_run\n",
    "import run_finding_10sec_blocks as run_find_blocks\n",
    "\n",
    "# ft extraction\n",
    "import tap_extract_fts.tapping_featureset as tap_fts_set\n",
    "import tap_extract_fts.tapping_extract_features as tap_ft_extr\n",
    "import tap_extract_fts.tapping_postFeatExtr_calc as postExtrCalc\n",
    "\n",
    "# own data exploration functions\n",
    "import tap_plotting.retap_visualise_fts as fts_boxplot\n",
    "\n",
    "# own helper functions\n",
    "from retap_utils import utils_dataManagement, tmsi_poly5reader, utils_preprocessing\n",
    "from tap_extract_fts import main_featExtractionClass as mainFtExtr"
   ]
  },
  {
   "cell_type": "markdown",
   "metadata": {},
   "source": [
    "### Load or creating tapping-traces"
   ]
  },
  {
   "cell_type": "code",
   "execution_count": 557,
   "metadata": {},
   "outputs": [
    {
     "name": "stdout",
     "output_type": "stream",
     "text": [
      "extracting sub BER019 (50 % of BER)\n",
      "extracting sub BER019 (100 % of BER)\n"
     ]
    }
   ],
   "source": [
    "### CREATE DATA7FT CLASSES OVER NOTEBOOK\n",
    "\n",
    "# importlib.reload(mainFtExtr)\n",
    "importlib.reload(tap_run)\n",
    "# importlib.reload(utils_dataManagement)\n",
    "# importlib.reload(tap_import)\n",
    "# importlib.reload(tap_preproc)\n",
    "# importlib.reload(find_blocks)\n",
    "# importlib.reload(tap_impact)\n",
    "importlib.reload(tap_times)\n",
    "# importlib.reload(tap_fts_set)\n",
    "# importlib.reload(tap_ft_extr)\n",
    "\n",
    "\n",
    "\n",
    "\n",
    "\n",
    "# dusdata = mainFtExtr.FeatureSet(\n",
    "#     subs_incl = ['DUS024',],# 'DUS007'],\n",
    "#     centers_incl = [ 'DUS', ],\n",
    "#     verbose=False,\n",
    "# )\n",
    "\n",
    "nantest = mainFtExtr.FeatureSet(\n",
    "    subs_incl = ['BER019', 'BER019'],# 'DUS007'],\n",
    "    centers_incl = [ 'BER', ],\n",
    "    verbose=False,\n",
    ")\n"
   ]
  },
  {
   "cell_type": "code",
   "execution_count": 558,
   "metadata": {},
   "outputs": [],
   "source": [
    "### IMPORT CREATED CLASSES FROM FILES\n",
    "from tap_extract_fts.main_featExtractionClass import FeatureSet, singleTrace\n",
    "\n",
    "importlib.reload(mainFtExtr)\n",
    "importlib.reload(utils_dataManagement)\n",
    "\n",
    "deriv_path = os.path.join(utils_dataManagement.get_local_proj_dir(), 'data', 'derivatives')\n",
    "\n",
    "# berClass = utils_dataManagement.load_class_pickle(os.path.join(deriv_path, 'ftClass_bertest.P'))\n",
    "# dusClass = utils_dataManagement.load_class_pickle(os.path.join(deriv_path, 'ftClass_DUS.P'))\n",
    "\n",
    "ftClass = utils_dataManagement.load_class_pickle(os.path.join(deriv_path, 'ftClass_ALL_20221114.P'))"
   ]
  },
  {
   "cell_type": "markdown",
   "metadata": {},
   "source": [
    "### 2a. Visualise detected Taps"
   ]
  },
  {
   "cell_type": "code",
   "execution_count": 371,
   "metadata": {},
   "outputs": [],
   "source": [
    "import tap_plotting.retap_check_taps as plot_taps"
   ]
  },
  {
   "cell_type": "code",
   "execution_count": 467,
   "metadata": {},
   "outputs": [],
   "source": [
    "### PLOT DETECTED TAPS\n",
    "importlib.reload(plot_taps)\n",
    "plot_taps.plot_detected_taps(ftClass)"
   ]
  },
  {
   "cell_type": "markdown",
   "metadata": {},
   "source": [
    "### 2b. Visualise Features as Group with Boxplots"
   ]
  },
  {
   "cell_type": "code",
   "execution_count": 74,
   "metadata": {},
   "outputs": [],
   "source": [
    "import tap_plotting.tapping_feat_boxplots as tapBoxplots\n",
    "import tap_plotting.retap_visualise_fts as retapViz"
   ]
  },
  {
   "cell_type": "code",
   "execution_count": 560,
   "metadata": {},
   "outputs": [
    {
     "data": {
      "text/plain": [
       "dict_keys(['triax_arr', 'fs', 'impacts', 'tapDict', 'updrsSubScore', 'nTaps', 'freq', 'tap_durations', 'intraTapInt', 'tapRMS', 'tapRMSnrm', 'impactRMS', 'raise_velocity', 'jerkiness', 'jerkiness_smooth', 'mean_tapRMSnrm', 'coefVar_tapRMSnrm', 'IQR_tapRMSnrm', 'decr_tapRMSnrm', 'slope_tapRMSnrm', 'mean_raise_velocity', 'coefVar_raise_velocity', 'IQR_raise_velocity', 'decr_raise_velocity', 'slope_raise_velocity', 'mean_intraTapInt', 'coefVar_intraTapInt', 'IQR_intraTapInt', 'decr_intraTapInt', 'slope_intraTapInt', 'mean_jerkiness', 'coefVar_jerkiness', 'IQR_jerkiness', 'decr_jerkiness', 'slope_jerkiness', 'mean_jerkiness_smooth', 'coefVar_jerkiness_smooth', 'IQR_jerkiness_smooth', 'decr_jerkiness_smooth', 'slope_jerkiness_smooth'])"
      ]
     },
     "execution_count": 560,
     "metadata": {},
     "output_type": "execute_result"
    }
   ],
   "source": [
    "vars(ftClass.BER033_M0S1_R_2.fts).keys()\n"
   ]
  },
  {
   "cell_type": "code",
   "execution_count": 499,
   "metadata": {},
   "outputs": [
    {
     "name": "stdout",
     "output_type": "stream",
     "text": [
      "(mean_tapRMSnrm)\t0 taps available for BER023_M1S0_R_3 (tap-subscore: 3)\n",
      "(mean_tapRMSnrm)\t0 taps available for DUS022_M0S0_L_1 (tap-subscore: 3)\n",
      "(mean_tapRMSnrm)\t0 taps available for DUS006_M0S0_L_1 (tap-subscore: 2)\n",
      "(coefVar_tapRMSnrm)\t0 taps available for BER023_M1S0_R_3 (tap-subscore: 3)\n",
      "(coefVar_tapRMSnrm)\t0 taps available for DUS022_M0S0_L_1 (tap-subscore: 3)\n",
      "(coefVar_tapRMSnrm)\t0 taps available for DUS006_M0S0_L_1 (tap-subscore: 2)\n",
      "(decr_tapRMSnrm)\t0 taps available for BER023_M1S0_R_3 (tap-subscore: 3)\n",
      "(decr_tapRMSnrm)\t0 taps available for DUS022_M0S0_L_1 (tap-subscore: 3)\n",
      "(decr_tapRMSnrm)\t0 taps available for DUS006_M0S0_L_1 (tap-subscore: 2)\n",
      "(slope_tapRMSnrm)\t0 taps available for BER023_M1S0_R_3 (tap-subscore: 3)\n",
      "(slope_tapRMSnrm)\t0 taps available for DUS022_M0S0_L_1 (tap-subscore: 3)\n",
      "(slope_tapRMSnrm)\t0 taps available for DUS006_M0S0_L_1 (tap-subscore: 2)\n"
     ]
    }
   ],
   "source": [
    "importlib.reload(retapViz)\n",
    "\n",
    "fts_include = [\n",
    "    'mean_tapRMSnrm', 'coefVar_tapRMSnrm', 'decr_tapRMSnrm', 'slope_tapRMSnrm',\n",
    "    'mean_intraTapInt', 'coefVar_intraTapInt', 'decr_intraTapInt', 'slope_intraTapInt',\n",
    "    'mean_jerkiness', 'coefVar_jerkiness', 'decr_jerkiness', 'slope_jerkiness'\n",
    "]\n",
    "\n",
    "tempScoreDict, fts_include = retapViz.sort_fts_on_tapScore(\n",
    "    ftClass=ftClass,\n",
    ")\n",
    "\n",
    "retapViz.plot_boxplot_feats_per_subscore(\n",
    "    fts_include=fts_include,\n",
    "    sorted_feat_dict=tempScoreDict,\n",
    "    plot_title='ReTap DUS and BER',# and DUS',\n",
    "    figsave_name=f'retap_fullCohort_{merge_meth}_v2',\n",
    "    figsave_dir=os.path.join(\n",
    "        utils_dataManagement.find_onedrive_path('figures'),\n",
    "        'fts_boxplots',\n",
    "    ),\n",
    "    show=False,\n",
    ")\n"
   ]
  },
  {
   "cell_type": "markdown",
   "metadata": {},
   "source": [
    "### 1d. Visualise single Features over Tap-course\n",
    "\n",
    "\n",
    "still to adapt to current feature class objects"
   ]
  },
  {
   "cell_type": "code",
   "execution_count": 151,
   "metadata": {},
   "outputs": [
    {
     "name": "stderr",
     "output_type": "stream",
     "text": [
      "/var/folders/7d/4ptht2m910d1y872jrgp9cq40000gp/T/ipykernel_32352/1711045685.py:63: RuntimeWarning: Mean of empty slice\n",
      "  meanFtPlot = np.nanmean(meanFtArr, axis=0)\n"
     ]
    }
   ],
   "source": [
    "ft = 'tapRMS_svm'\n",
    "\n",
    "sub = '007'\n",
    "side='L'\n",
    "\n",
    "mA_range = ['0', '05', '1', '15', '2', '25']\n",
    "\n",
    "colors = {'Off': 'blue', 'On': 'green'}\n",
    "fs=14\n",
    "\n",
    "for ft in [\n",
    "    'tapRMS_svm',\n",
    "    # 'upVelo_svm',\n",
    "    # 'impactRMS_svm',\n",
    "    # 'dirChange_taps',\n",
    "    # 'tap_durations',\n",
    "]:\n",
    "\n",
    "    plt.figure(figsize=(12, 6))\n",
    "\n",
    "    # get mean feature-course over 3 tapping-blocks of 10 sec\n",
    "    for med in ['Off', 'On']:\n",
    "\n",
    "        for a, mA in enumerate(mA_range):\n",
    "\n",
    "            try:\n",
    "                meanFt = [\n",
    "                    getattr(\n",
    "                        FEATS[f'{sub}_{side}_{med}_{mA}mA_b{bN}'],\n",
    "                        ft\n",
    "                    ) for bN in [1,2,3]\n",
    "                ]\n",
    "\n",
    "            except KeyError:  # tap-run not existing\n",
    "                continue  # dont calculate and plot line\n",
    "\n",
    "            except AttributeError:  # no taps detected -> no features extracted\n",
    "                meanFt = []\n",
    "                emptyCount = ' '\n",
    "\n",
    "                for bN in [1,2,3]:\n",
    "                    key = f'{sub}_{side}_{med}_{mA}mA_b{bN}'\n",
    "                    \n",
    "                    if ft in vars(FEATS[key]).keys():\n",
    "                        meanFt.append(getattr(FEATS[key], ft))\n",
    "                    \n",
    "                    else:\n",
    "                        emptyCount += '*'\n",
    "                \n",
    "                if meanFt == []:  # all runs without taps/features\n",
    "                    meanFt = [[0]]\n",
    "\n",
    "            # transform ft-lists per run into mean array\n",
    "            maxLen = max(\n",
    "                [len(meanFt[n]) for n in range(len(meanFt))]\n",
    "            )\n",
    "            meanFtArr = np.array(\n",
    "                [[np.nan] * maxLen] * len(meanFt))\n",
    "            \n",
    "            for n, l in enumerate(meanFt):\n",
    "                meanFtArr[n, :len(l)] = l\n",
    "            \n",
    "            meanFtPlot = np.nanmean(meanFtArr, axis=0)\n",
    "\n",
    "            # average updrsSubScore over 3 runs\n",
    "            meanTapScore = np.round(np.mean([\n",
    "                getattr(\n",
    "                    FEATS[f'{sub}_{side}_{med}_{mA}mA_b{bN}'],\n",
    "                    'updrsSubScore'\n",
    "                ) for bN in [1,2,3]\n",
    "            ]), 1)\n",
    "\n",
    "            tapLabel = f'Med{med} {mA} mA  (updrs {meanTapScore})'\n",
    "            \n",
    "            try:\n",
    "                tapLabel += emptyCount\n",
    "                del(emptyCount)\n",
    "\n",
    "            except:\n",
    "                tapLabel = tapLabel\n",
    "\n",
    "            plt.plot(\n",
    "                meanFtPlot, c=colors[med],\n",
    "                alpha=.1 + (.15 * a),\n",
    "                label=tapLabel,\n",
    "            )\n",
    "            \n",
    "\n",
    "            \n",
    "\n",
    "    plt.ylabel(f'{ft} (a.u.)', size=fs,)\n",
    "    plt.xlabel('Taps over time (# of tap)', size=fs,)\n",
    "\n",
    "    plt.tick_params(axis='both', size=fs, labelsize=fs)\n",
    "\n",
    "    plt.legend(\n",
    "        frameon=False, ncol=1,\n",
    "        bbox_to_anchor=(1, .9), loc='upper left',\n",
    "        fontsize=fs,\n",
    "    )\n",
    "\n",
    "    plt.title(\n",
    "        f'Feature course of \"{ft}\"    -     '\n",
    "        f'Sub-{sub}, {side}-side'\n",
    "        f'\\n(mean over 3 10-sec blocks in same condition)',\n",
    "        fontsize=fs+6,\n",
    "    )\n",
    "    plt.tight_layout()\n",
    "\n",
    "    plt.savefig(\n",
    "        os.path.join(\n",
    "            fig_dir,\n",
    "            'ft_course_tapping',\n",
    "            f'TEST____{sub}_{side}_ftCourse_{ft}'\n",
    "        ),\n",
    "        dpi=150, facecolor='w',\n",
    "    )\n",
    "    plt.close()"
   ]
  }
 ],
 "metadata": {
  "kernelspec": {
   "display_name": "Python 3.9.13 ('retap')",
   "language": "python",
   "name": "python3"
  },
  "language_info": {
   "codemirror_mode": {
    "name": "ipython",
    "version": 3
   },
   "file_extension": ".py",
   "mimetype": "text/x-python",
   "name": "python",
   "nbconvert_exporter": "python",
   "pygments_lexer": "ipython3",
   "version": "3.9.13"
  },
  "orig_nbformat": 4,
  "vscode": {
   "interpreter": {
    "hash": "f23a308fb4398211655e9950c8371f856de701ec09eac61c96054832e4a49057"
   }
  }
 },
 "nbformat": 4,
 "nbformat_minor": 2
}

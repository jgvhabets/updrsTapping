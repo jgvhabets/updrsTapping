{
 "cells": [
  {
   "cell_type": "markdown",
   "metadata": {},
   "source": [
    "## ReTap - UPDRS-Tapping Assessment - Feature Exploration\n",
    "\n",
    "This notebooks helps to visualise and statistically tst created tapping-features.\n",
    "\n"
   ]
  },
  {
   "cell_type": "markdown",
   "metadata": {},
   "source": [
    "### 0. Loading packages and functions, defining paths\n",
    "\n"
   ]
  },
  {
   "cell_type": "code",
   "execution_count": 1,
   "metadata": {},
   "outputs": [],
   "source": [
    "# Importing Python and external packages\n",
    "import os\n",
    "import sys\n",
    "import importlib\n",
    "import pandas as pd\n",
    "import numpy as np\n",
    "import sklearn as sk\n",
    "import scipy\n",
    "import matplotlib.pyplot as plt\n",
    "# import matplotlib.gridspec as gridspec\n",
    "\n"
   ]
  },
  {
   "cell_type": "code",
   "execution_count": 2,
   "metadata": {},
   "outputs": [
    {
     "name": "stdout",
     "output_type": "stream",
     "text": [
      "Python sys 3.9.13 (main, Oct 13 2022, 21:23:06) [MSC v.1916 64 bit (AMD64)]\n",
      "pandas 1.4.4\n",
      "numpy 1.23.3\n",
      "sci-py 1.9.1\n",
      "sci-kit learn 1.1.2\n"
     ]
    }
   ],
   "source": [
    "# check some package versions for documentation and reproducability\n",
    "print('Python sys', sys.version)\n",
    "print('pandas', pd.__version__)\n",
    "print('numpy', np.__version__)\n",
    "# print('mne_bids', mne_bids.__version__)\n",
    "# print('mne', mne.__version__)\n",
    "print('sci-py', scipy.__version__)\n",
    "print('sci-kit learn', sk.__version__)\n",
    "\n",
    "\n",
    "## developed with:\n",
    "# Python sys 3.9.7 (default, Sep 16 2021, 08:50:36) \n",
    "# [Clang 10.0.0 ]\n",
    "# pandas 1.3.4\n",
    "# numpy 1.20.3\n",
    "# mne_bids 0.9\n",
    "# mne 0.24.1\n",
    "# sci-py 1.7.1\n",
    "# sci-kit learn 1.0.1\n",
    "\n",
    "## Currently (own env) since 31.08.22\n",
    "# Python sys 3.9.12 (main, Jun  1 2022, 06:36:29) \n",
    "# [Clang 12.0.0 ]\n",
    "# pandas 1.4.3\n",
    "# numpy 1.21.5\n",
    "# sci-py 1.7.3\n",
    "# sci-kit learn 1.1.1"
   ]
  },
  {
   "cell_type": "code",
   "execution_count": 3,
   "metadata": {},
   "outputs": [],
   "source": [
    "# own data preprocessing functions\n",
    "# import tap_load_data.updrsTapping_import as tap_import\n",
    "# import tap_load_data.tapping_preprocess as tap_preproc\n",
    "# import tap_load_data.tapping_find_blocks as find_blocks\n",
    "# import tap_load_data.tapping_impact_finder as tap_impact\n",
    "# import tap_load_data.tapping_time_detect as tap_times\n",
    "\n",
    "\n",
    "# ft extraction\n",
    "# import tap_extract_fts.tapping_featureset as tap_fts_set\n",
    "# import tap_extract_fts.tapping_extract_features as tap_ft_extr\n",
    "import tap_extract_fts.tapping_postFeatExtr_calc as postExtrCalc\n",
    "\n",
    "# own helper functions\n",
    "import retap_utils.utils_dataManagement as utils_dataMn\n",
    "# from tap_extract_fts import main_featExtractionClass as mainFtExtr"
   ]
  },
  {
   "cell_type": "markdown",
   "metadata": {},
   "source": [
    "### Load or creating tapping-traces"
   ]
  },
  {
   "cell_type": "code",
   "execution_count": 4,
   "metadata": {},
   "outputs": [],
   "source": [
    "### IMPORT CREATED CLASSES FROM FILES\n",
    "from tap_extract_fts.main_featExtractionClass import FeatureSet, singleTrace\n",
    "\n",
    "# importlib.reload(mainFtExtr)\n",
    "# importlib.reload(utils_dataMn))\n",
    "\n",
    "deriv_path = os.path.join(utils_dataMn.get_local_proj_dir(), 'data', 'derivatives')\n",
    "\n",
    "# berClass = utils_dataManagement.load_class_pickle(os.path.join(deriv_path, 'ftClass_bertest.P'))\n",
    "# dusClass = utils_dataManagement.load_class_pickle(os.path.join(deriv_path, 'ftClass_DUS.P'))\n",
    "\n",
    "ftClass = utils_dataMn.load_class_pickle(os.path.join(deriv_path, 'ftClass_ALL_20221214.P'))\n",
    "ftClass10 = utils_dataMn.load_class_pickle(os.path.join(deriv_path, 'ftClass_ALL_max10_20221214.P'))"
   ]
  },
  {
   "cell_type": "code",
   "execution_count": 4,
   "metadata": {},
   "outputs": [
    {
     "data": {
      "text/plain": [
       "<module 'tap_load_data.tapping_time_detect' from '/Users/jeroenhabets/Research/CHARITE/projects/tapping/code/updrsTapping_repo/tap_load_data/tapping_time_detect.py'>"
      ]
     },
     "execution_count": 4,
     "metadata": {},
     "output_type": "execute_result"
    }
   ],
   "source": [
    "### CREATE DATA-FT CLASSES in NOTEBOOK\n",
    "\n",
    "# importlib.reload(mainFtExtr)\n",
    "# importlib.reload(tap_run)\n",
    "# importlib.reload(utils_dataManagement)\n",
    "# importlib.reload(tap_import)\n",
    "# importlib.reload(tap_preproc)\n",
    "# importlib.reload(find_blocks)\n",
    "# importlib.reload(tap_impact)\n",
    "# importlib.reload(tap_times)\n",
    "# importlib.reload(tap_fts_set)\n",
    "# importlib.reload(tap_ft_extr)\n",
    "\n",
    "\n",
    "\n",
    "\n",
    "\n",
    "# dusdata = mainFtExtr.FeatureSet(\n",
    "#     subs_incl = ['DUS024',],# 'DUS007'],\n",
    "#     centers_incl = [ 'DUS', ],\n",
    "#     verbose=False,\n",
    "# )\n",
    "\n",
    "# nantest = mainFtExtr.FeatureSet(\n",
    "#     subs_incl = ['BER019', 'BER019'],# 'DUS007'],\n",
    "#     centers_incl = [ 'BER', ],\n",
    "#     verbose=False,\n",
    "# )\n"
   ]
  },
  {
   "cell_type": "markdown",
   "metadata": {},
   "source": [
    "### 2a. Visualise detected Taps"
   ]
  },
  {
   "cell_type": "code",
   "execution_count": 66,
   "metadata": {},
   "outputs": [
    {
     "name": "stdout",
     "output_type": "stream",
     "text": [
      "['BER021_M0S1_L_1', 'BER029_M1S0_L_3', 'BER051_M1S0_L_1', 'BER038_M0S0_L_3', 'BER049_M0S0_R_1', 'BER028_M1S0_L_1', 'BER033_M1S1_R_1', 'BER023_M1S0_R_2', 'BER025_M0S1_R_1', 'BER024_M1S1_L_2', 'BER032_M0S0_L_2', 'DUS008_M0S0_L_1', 'DUS025_M1S0_L_1']\n",
      "\n",
      "dict_keys(['triax_arr', 'fs', 'impacts', 'tapDict', 'updrsSubScore', 'nTaps', 'freq', 'tap_durations', 'intraTapInt', 'tapRMS', 'tapRMSnrm', 'impactRMS', 'raise_velocity', 'jerkiness_taps', 'jerkiness_trace', 'mean_tapRMS', 'coefVar_tapRMS', 'IQR_tapRMS', 'decr_tapRMS', 'slope_tapRMS', 'mean_tapRMSnrm', 'coefVar_tapRMSnrm', 'IQR_tapRMSnrm', 'decr_tapRMSnrm', 'slope_tapRMSnrm', 'mean_impactRMS', 'coefVar_impactRMS', 'IQR_impactRMS', 'decr_impactRMS', 'slope_impactRMS', 'mean_raise_velocity', 'coefVar_raise_velocity', 'IQR_raise_velocity', 'decr_raise_velocity', 'slope_raise_velocity', 'mean_intraTapInt', 'coefVar_intraTapInt', 'IQR_intraTapInt', 'decr_intraTapInt', 'slope_intraTapInt', 'mean_jerkiness_taps', 'coefVar_jerkiness_taps', 'IQR_jerkiness_taps', 'decr_jerkiness_taps', 'slope_jerkiness_taps'])\n"
     ]
    }
   ],
   "source": [
    "print(ftClass.incl_traces[::30])\n",
    "print()\n",
    "print(vars(ftClass.BER019_M0S0_L_3.fts).keys())"
   ]
  },
  {
   "cell_type": "code",
   "execution_count": 9,
   "metadata": {},
   "outputs": [
    {
     "data": {
      "image/png": "[encoded data removed]",
      "text/plain": [
       "<Figure size 432x288 with 1 Axes>"
      ]
     },
     "metadata": {
      "needs_background": "light"
     },
     "output_type": "display_data"
    }
   ],
   "source": [
    "trace = getattr(ftClass, 'BER029_M1S0_L_3')\n",
    "plt.plot(trace.fts.tapRMS[1:20])\n",
    "plt.show()"
   ]
  },
  {
   "cell_type": "code",
   "execution_count": 12,
   "metadata": {},
   "outputs": [
    {
     "name": "stdout",
     "output_type": "stream",
     "text": [
      "regr_slope -0.008204035455351415\n",
      "diff_in_mean -0.09018290223076729\n"
     ]
    }
   ],
   "source": [
    "importlib.reload(postExtrCalc)\n",
    "\n",
    "for m in ['regr_slope', 'diff_in_mean']:\n",
    "    print(m, postExtrCalc.ft_decrement(\n",
    "        ft_array=trace.fts.tapRMS[1:20],\n",
    "        method=m,\n",
    "    ))"
   ]
  },
  {
   "cell_type": "code",
   "execution_count": 6,
   "metadata": {},
   "outputs": [],
   "source": [
    "import tap_plotting.retap_check_taps as plot_taps"
   ]
  },
  {
   "cell_type": "code",
   "execution_count": 13,
   "metadata": {},
   "outputs": [],
   "source": [
    "# ### PLOT DETECTED TAPS for all Traces and save figures\n",
    "# importlib.reload(plot_taps)\n",
    "# plot_taps.plot_detected_taps(ftClass)"
   ]
  },
  {
   "cell_type": "markdown",
   "metadata": {},
   "source": [
    "### 2b. Visualise Features as Group with Boxplots"
   ]
  },
  {
   "cell_type": "code",
   "execution_count": 5,
   "metadata": {},
   "outputs": [],
   "source": [
    "import tap_plotting.retap_visualise_fts as retapViz"
   ]
  },
  {
   "cell_type": "code",
   "execution_count": 16,
   "metadata": {},
   "outputs": [
    {
     "name": "stdout",
     "output_type": "stream",
     "text": [
      "\n",
      "UPDRS subscores: (array([0, 1, 2, 3, 4]), array([ 40, 154, 122,  57,   3], dtype=int64))\n",
      "In 37 unique subjects, 376 tap blocks found\n",
      "block durations: 11.843691489361703 +/- 2.560180585080951\n",
      "n taps: 29.0718085106383 +/- 11.186649191493608\n"
     ]
    }
   ],
   "source": [
    "### GET GLOBAL SUMMARY\n",
    "# \n",
    "# 21 blocks false positive, missed 1\n",
    "# blocks without taps\n",
    "\n",
    "block_durations = []\n",
    "ntaps = []\n",
    "subs = []\n",
    "scores = []\n",
    "\n",
    "for trace in ftClass.incl_traces:\n",
    "    subs.append(getattr(ftClass, trace).sub)\n",
    "    scores.append(getattr(ftClass, trace).tap_score)\n",
    "\n",
    "    try:\n",
    "        ntaps.append(getattr(ftClass, trace).fts.total_nTaps)\n",
    "        block_durations.append(getattr(ftClass, trace).acc_sig.shape[1] / 250)\n",
    "        \n",
    "    except AttributeError:\n",
    "        print(trace)\n",
    "print()\n",
    "print(f'UPDRS subscores: {np.unique(scores, return_counts=True)}')\n",
    "print(f'In {len(np.unique(subs))} unique subjects, {len(ftClass.incl_traces)} tap blocks found')\n",
    "print(f'block durations: {np.mean(block_durations)} +/- {np.std(block_durations)}')\n",
    "print(f'n taps: {np.mean(ntaps)} +/- {np.std(ntaps)}')"
   ]
  },
  {
   "cell_type": "code",
   "execution_count": 499,
   "metadata": {},
   "outputs": [
    {
     "name": "stdout",
     "output_type": "stream",
     "text": [
      "(mean_tapRMSnrm)\t0 taps available for BER023_M1S0_R_3 (tap-subscore: 3)\n",
      "(mean_tapRMSnrm)\t0 taps available for DUS022_M0S0_L_1 (tap-subscore: 3)\n",
      "(mean_tapRMSnrm)\t0 taps available for DUS006_M0S0_L_1 (tap-subscore: 2)\n",
      "(coefVar_tapRMSnrm)\t0 taps available for BER023_M1S0_R_3 (tap-subscore: 3)\n",
      "(coefVar_tapRMSnrm)\t0 taps available for DUS022_M0S0_L_1 (tap-subscore: 3)\n",
      "(coefVar_tapRMSnrm)\t0 taps available for DUS006_M0S0_L_1 (tap-subscore: 2)\n",
      "(decr_tapRMSnrm)\t0 taps available for BER023_M1S0_R_3 (tap-subscore: 3)\n",
      "(decr_tapRMSnrm)\t0 taps available for DUS022_M0S0_L_1 (tap-subscore: 3)\n",
      "(decr_tapRMSnrm)\t0 taps available for DUS006_M0S0_L_1 (tap-subscore: 2)\n",
      "(slope_tapRMSnrm)\t0 taps available for BER023_M1S0_R_3 (tap-subscore: 3)\n",
      "(slope_tapRMSnrm)\t0 taps available for DUS022_M0S0_L_1 (tap-subscore: 3)\n",
      "(slope_tapRMSnrm)\t0 taps available for DUS006_M0S0_L_1 (tap-subscore: 2)\n"
     ]
    }
   ],
   "source": [
    "importlib.reload(retapViz)\n",
    "\n",
    "fts_include = [\n",
    "    'mean_tapRMSnrm', 'coefVar_tapRMSnrm', 'decr_tapRMSnrm', 'slope_tapRMSnrm',\n",
    "    'mean_intraTapInt', 'coefVar_intraTapInt', 'decr_intraTapInt', 'slope_intraTapInt',\n",
    "    'mean_jerkiness', 'coefVar_jerkiness', 'decr_jerkiness', 'slope_jerkiness'\n",
    "]\n",
    "\n",
    "tempScoreDict, fts_include = retapViz.sort_fts_on_tapScore(\n",
    "    ftClass=ftClass,\n",
    ")\n",
    "\n",
    "retapViz.plot_boxplot_feats_per_subscore(\n",
    "    fts_include=fts_include,\n",
    "    sorted_feat_dict=tempScoreDict,\n",
    "    plot_title='ReTap DUS and BER',# and DUS',\n",
    "    figsave_name=f'retap_fullCohort_{merge_meth}_v2',\n",
    "    figsave_dir=os.path.join(\n",
    "        utils_dataManagement.find_onedrive_path('figures'),\n",
    "        'fts_boxplots',\n",
    "    ),\n",
    "    show=False,\n",
    ")\n"
   ]
  },
  {
   "cell_type": "markdown",
   "metadata": {},
   "source": [
    "### 2c. Visualise Slow vs Fast Tappers"
   ]
  },
  {
   "cell_type": "code",
   "execution_count": 6,
   "metadata": {},
   "outputs": [],
   "source": [
    "fig_path_1D = utils_dataMn.find_onedrive_path('figures')\n",
    "import datetime as dt"
   ]
  },
  {
   "cell_type": "code",
   "execution_count": 8,
   "metadata": {},
   "outputs": [],
   "source": [
    "ft_select = 'freq'   #  intraTapInt, freq, total_nTaps, tapRMSnrm\n",
    "aggr_meth = 'mean'  # mean, std dev, coef of var\n",
    "y_label = ft_select\n",
    "\n",
    "traces_excl = [\n",
    "    'DUS006_M0S0_L_1',\n",
    "]\n",
    "\n",
    "totalFreq = []\n",
    "totalTaps = []\n",
    "scores, values = [], []\n",
    "\n",
    "\n",
    "\n",
    "box_lists = {}\n",
    "for i in range(5): box_lists[i] = []\n",
    "\n",
    "for trace in ftClass10.incl_traces:\n",
    "    \n",
    "    if trace in traces_excl: continue\n",
    "\n",
    "    trace = getattr(ftClass10, trace)\n",
    "    value = getattr(trace.fts, ft_select)\n",
    "    \n",
    "    if type(value) == np.ndarray:\n",
    "        if aggr_meth == 'mean': value = np.nanmean(value)\n",
    "        elif aggr_meth == 'std dev': value = np.nanstd(value)\n",
    "        elif aggr_meth == 'coef of var': value = scipy.stats.variation(value)\n",
    "\n",
    "        y_label = f'{aggr_meth} {ft_select}'\n",
    "    values.append(value)\n",
    "\n",
    "    score = getattr(trace, 'tap_score')\n",
    "    scores.append(score)\n",
    "\n",
    "    box_lists[score].append(value)\n",
    "\n",
    "box_lists = [box_lists[i] for i in range(5)]\n"
   ]
  },
  {
   "cell_type": "code",
   "execution_count": 191,
   "metadata": {},
   "outputs": [],
   "source": [
    "fs = 14  # fontsize\n",
    "\n",
    "box_lists = retapViz.clean_list_of_lists(box_lists)\n",
    "\n",
    "plt.figure(figsize=(8, 6))\n",
    "\n",
    "plt.boxplot(box_lists)\n",
    "\n",
    "plt.ylabel(y_label, size=fs)\n",
    "\n",
    "plt.xticks(range(1, 6), labels=range(5))\n",
    "plt.xlabel('UPDRS tap score', size=fs)\n",
    "\n",
    "plt.tick_params(axis='both', size=fs, labelsize=fs)\n",
    "\n",
    "# plt.ylim(0, 1.5)\n",
    "\n",
    "dd = str(dt.date.today().day).zfill(2)\n",
    "mm = str(dt.date.today().month).zfill(2)\n",
    "figname = (\n",
    "    f'{dt.date.today().year}{mm}{dd}'\n",
    "    f'_ftBoxplot_10taps_{y_label}'\n",
    ")\n",
    "\n",
    "# plt.savefig(\n",
    "#     os.path.join(fig_path_1D, 'fts_boxplots', figname),\n",
    "#     dpi=150, facecolor='w',)\n",
    "\n",
    "plt.show()"
   ]
  },
  {
   "cell_type": "markdown",
   "metadata": {},
   "source": [
    "#### PLOT CLUSTERS OF FAST / SLOW TAPPERS"
   ]
  },
  {
   "cell_type": "code",
   "execution_count": 20,
   "metadata": {},
   "outputs": [],
   "source": [
    "import tap_plotting.retap_plot_clusters as plot_cluster\n",
    "import tap_predict.tap_pred_prepare as pred_prep"
   ]
  },
  {
   "cell_type": "code",
   "execution_count": 28,
   "metadata": {},
   "outputs": [
    {
     "name": "stdout",
     "output_type": "stream",
     "text": [
      "# of NaNs per feat: [0 0 0]\n"
     ]
    }
   ],
   "source": [
    "importlib.reload(pred_prep)\n",
    "\n",
    "# create matrix to cluster with\n",
    "traces_excl = [\n",
    "    'DUS006_M0S0_L_1',\n",
    "]\n",
    "\n",
    "ft_sel = [\n",
    "    'mean_intraTapInt',\n",
    "    'coefVar_intraTapInt',\n",
    "    'freq'\n",
    "]\n",
    "\n",
    "X, y = pred_prep.create_X_y_vectors(\n",
    "    ftClass=ftClass,\n",
    "    incl_feats=ft_sel,\n",
    "    incl_traces=ftClass.incl_traces,\n",
    "    excl_traces=traces_excl,\n",
    "    to_zscore=True,\n",
    ")\n",
    "\n",
    "\n",
    "## MASKING BCS TOO LOW NUMBERS\n",
    "# UPDRS 4 -> 3 merge (4: n=3)\n",
    "mask = y == 4\n",
    "y[mask] = 3\n",
    "\n",
    "# # UPDRS 0 -> 1 merge (0: n=40)\n",
    "# mask = y == 0\n",
    "# y[mask] = 1"
   ]
  },
  {
   "cell_type": "code",
   "execution_count": 32,
   "metadata": {},
   "outputs": [
    {
     "name": "stderr",
     "output_type": "stream",
     "text": [
      "c:\\Users\\habetsj\\Anaconda3\\envs\\retap\\lib\\site-packages\\sklearn\\cluster\\_kmeans.py:1334: UserWarning: KMeans is known to have a memory leak on Windows with MKL, when there are less chunks than available threads. You can avoid it by setting the environment variable OMP_NUM_THREADS=2.\n",
      "  warnings.warn(\n",
      "c:\\Users\\habetsj\\Anaconda3\\envs\\retap\\lib\\site-packages\\sklearn\\cluster\\_kmeans.py:1334: UserWarning: KMeans is known to have a memory leak on Windows with MKL, when there are less chunks than available threads. You can avoid it by setting the environment variable OMP_NUM_THREADS=2.\n",
      "  warnings.warn(\n"
     ]
    }
   ],
   "source": [
    "importlib.reload(plot_cluster)\n",
    "importlib.reload(postExtrCalc)\n",
    "\n",
    "n_clusters = 2\n",
    "\n",
    "plot_cluster.plot_cluster_kMeans(\n",
    "    X=X, y=y, n_clusters=n_clusters,\n",
    "    use_pca=True,\n",
    "    z_score=True,\n",
    "    alt_labels=['mean ITI', 'cv ITI'],\n",
    "    show=False,\n",
    "    # figsave_dir=os.path.join(fig_path_1D, 'clustering'),\n",
    "    # figsave_name=(\n",
    "    #     f'{dt.date.today().year}{mm}{dd}'\n",
    "    #     f'_{n_clusters}clusters_M_CV_iti_'   # freq\n",
    "    # ),\n",
    ")\n",
    "\n",
    "y_clust, centr_clust, _ = plot_cluster.get_kMeans_clusters(\n",
    "    X=X,\n",
    "    n_clusters=n_clusters,\n",
    "    use_pca=True,\n",
    "    z_score=True,\n",
    ")"
   ]
  },
  {
   "cell_type": "code",
   "execution_count": 31,
   "metadata": {},
   "outputs": [],
   "source": [
    "# plot distribution of tap-sub-scores in clusters\n",
    "\n",
    "fig, ax = plt.subplots(1, 1, figsize=(12, 8))\n",
    "\n",
    "fs=16\n",
    "\n",
    "if n_clusters == 3:\n",
    "    widths = [.3, -.3, .3]\n",
    "    aligns = ['left', 'mid', 'mid']\n",
    "elif n_clusters == 2:\n",
    "    widths = [-.3, .3]\n",
    "    aligns = ['mid', 'mid']\n",
    "\n",
    "\n",
    "\n",
    "for n_cl in range(n_clusters):\n",
    "\n",
    "    clust_y = y[y_clust == n_cl] \n",
    "    plt.hist(\n",
    "        clust_y,\n",
    "        bins=np.arange(5),\n",
    "        width=widths[n_cl],\n",
    "        align=aligns[n_cl],\n",
    "        label=f'Cluster {n_cl + 1}\\n(n={len(clust_y)})')\n",
    "\n",
    "# plt.hist(\n",
    "#     y[y_clust == 1],\n",
    "#     align='right',\n",
    "#     label=f'Cluster 2 (n={})')\n",
    "\n",
    "plt.ylabel('n Observations (10-s traces)', size=fs,)\n",
    "plt.xlim(-.5, 4)\n",
    "\n",
    "plt.xticks(np.arange(4), labels=['0', '1', '2', '3 + 4'])\n",
    "plt.xlabel('UPDRS sub tap score', size=fs,)\n",
    "\n",
    "plt.legend(fontsize=fs, frameon=False,)\n",
    "\n",
    "plt.tick_params(axis='both', size=fs, labelsize=fs)\n",
    "\n",
    "for side in ['top', 'right']: ax.spines[side].set_color('none')\n",
    "\n",
    "dd = str(dt.date.today().day).zfill(2)\n",
    "mm = str(dt.date.today().month).zfill(2)\n",
    "figname = (\n",
    "    f'{dt.date.today().year}{mm}{dd}'\n",
    "    f'_{n_clusters}clusters_M_CV_iti_scores'  # freq\n",
    ")\n",
    "\n",
    "# plt.savefig(\n",
    "#     os.path.join(fig_path_1D, 'clustering', figname),\n",
    "#     dpi=150, facecolor='w',)\n",
    "\n",
    "plt.tight_layout()\n",
    "\n",
    "plt.close()"
   ]
  },
  {
   "cell_type": "markdown",
   "metadata": {},
   "source": [
    "### 3. Visualise single Features over Tap-course\n",
    "\n",
    "\n",
    "still to adapt to current feature class objects"
   ]
  }
 ],
 "metadata": {
  "kernelspec": {
   "display_name": "Python 3.9.13 ('retap')",
   "language": "python",
   "name": "python3"
  },
  "language_info": {
   "codemirror_mode": {
    "name": "ipython",
    "version": 3
   },
   "file_extension": ".py",
   "mimetype": "text/x-python",
   "name": "python",
   "nbconvert_exporter": "python",
   "pygments_lexer": "ipython3",
   "version": "3.9.13"
  },
  "orig_nbformat": 4,
  "vscode": {
   "interpreter": {
    "hash": "f23a308fb4398211655e9950c8371f856de701ec09eac61c96054832e4a49057"
   }
  }
 },
 "nbformat": 4,
 "nbformat_minor": 2
}

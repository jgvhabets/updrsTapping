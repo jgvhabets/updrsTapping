{
 "cells": [
  {
   "cell_type": "markdown",
   "metadata": {},
   "source": [
    "## ReTap - UPDRS-Tapping Assessment - Feature Exploration\n",
    "\n",
    "This notebooks helps to visualise and statistically tst created tapping-features.\n",
    "\n"
   ]
  },
  {
   "cell_type": "markdown",
   "metadata": {},
   "source": [
    "### 0. Loading packages and functions, defining paths\n",
    "\n"
   ]
  },
  {
   "cell_type": "code",
   "execution_count": 1,
   "metadata": {},
   "outputs": [],
   "source": [
    "# Importing Python and external packages\n",
    "import os\n",
    "import sys\n",
    "import importlib\n",
    "import json\n",
    "import pandas as pd\n",
    "import numpy as np\n",
    "import itertools\n",
    "import sklearn as sk\n",
    "import scipy\n",
    "import matplotlib.pyplot as plt\n",
    "# import matplotlib.gridspec as gridspec\n",
    "\n",
    "import seaborn as sns\n",
    "from scipy import signal\n",
    "from scipy import stats\n",
    "from array import array\n",
    "import datetime as dt\n",
    "import h5py\n",
    "from dataclasses import  dataclass, field\n",
    "from itertools import compress\n",
    "from typing import Any"
   ]
  },
  {
   "cell_type": "code",
   "execution_count": 2,
   "metadata": {},
   "outputs": [
    {
     "name": "stdout",
     "output_type": "stream",
     "text": [
      "Python sys 3.9.7 (default, Sep 16 2021, 08:50:36) \n",
      "[Clang 10.0.0 ]\n",
      "pandas 1.3.4\n",
      "numpy 1.20.3\n",
      "sci-py 1.7.1\n",
      "sci-kit learn 1.0.1\n"
     ]
    }
   ],
   "source": [
    "# check some package versions for documentation and reproducability\n",
    "print('Python sys', sys.version)\n",
    "print('pandas', pd.__version__)\n",
    "print('numpy', np.__version__)\n",
    "# print('mne_bids', mne_bids.__version__)\n",
    "# print('mne', mne.__version__)\n",
    "print('sci-py', scipy.__version__)\n",
    "print('sci-kit learn', sk.__version__)\n",
    "\n",
    "\n",
    "## developed with:\n",
    "# Python sys 3.9.7 (default, Sep 16 2021, 08:50:36) \n",
    "# [Clang 10.0.0 ]\n",
    "# pandas 1.3.4\n",
    "# numpy 1.20.3\n",
    "# mne_bids 0.9\n",
    "# mne 0.24.1\n",
    "# sci-py 1.7.1\n",
    "# sci-kit learn 1.0.1\n",
    "\n",
    "## Currently (own env) since 31.08.22\n",
    "# Python sys 3.9.12 (main, Jun  1 2022, 06:36:29) \n",
    "# [Clang 12.0.0 ]\n",
    "# pandas 1.4.3\n",
    "# numpy 1.21.5\n",
    "# sci-py 1.7.3\n",
    "# sci-kit learn 1.1.1"
   ]
  },
  {
   "cell_type": "code",
   "execution_count": 3,
   "metadata": {},
   "outputs": [],
   "source": [
    "# own data preprocessing functions\n",
    "import tap_load_data.updrsTapping_import as tap_import\n",
    "import tap_load_data.tapping_preprocess as tap_preproc\n",
    "import tap_load_data.tapping_find_blocks as find_blocks\n",
    "import tap_load_data.tapping_impact_finder as tap_impact\n",
    "import tap_load_data.tapping_time_detect as tap_times\n",
    "\n",
    "import tapping_run as tap_run\n",
    "import run_finding_10sec_blocks as run_find_blocks\n",
    "\n",
    "# ft extraction\n",
    "import tap_extract_fts.tapping_featureset as tap_fts_set\n",
    "import tap_extract_fts.tapping_extract_features as tap_ft_extr\n",
    "import tap_extract_fts.tapping_postFeatExtr_calc as postExtrCalc\n",
    "\n",
    "# own data exploration functions\n",
    "import tap_plotting.retap_visualise_fts as fts_boxplot\n",
    "\n",
    "# own helper functions\n",
    "from retap_utils import utils_dataManagement, tmsi_poly5reader, utils_preprocessing\n",
    "from tap_extract_fts import main_featExtractionClass as mainFtExtr"
   ]
  },
  {
   "cell_type": "markdown",
   "metadata": {},
   "source": [
    "### Load or creating tapping-traces"
   ]
  },
  {
   "cell_type": "code",
   "execution_count": 4,
   "metadata": {},
   "outputs": [
    {
     "data": {
      "text/plain": [
       "<module 'tap_load_data.tapping_time_detect' from '/Users/jeroenhabets/Research/CHARITE/projects/tapping/code/updrsTapping_repo/tap_load_data/tapping_time_detect.py'>"
      ]
     },
     "execution_count": 4,
     "metadata": {},
     "output_type": "execute_result"
    }
   ],
   "source": [
    "### CREATE DATA7FT CLASSES OVER NOTEBOOK\n",
    "\n",
    "# importlib.reload(mainFtExtr)\n",
    "importlib.reload(tap_run)\n",
    "# importlib.reload(utils_dataManagement)\n",
    "# importlib.reload(tap_import)\n",
    "# importlib.reload(tap_preproc)\n",
    "# importlib.reload(find_blocks)\n",
    "# importlib.reload(tap_impact)\n",
    "importlib.reload(tap_times)\n",
    "# importlib.reload(tap_fts_set)\n",
    "# importlib.reload(tap_ft_extr)\n",
    "\n",
    "\n",
    "\n",
    "\n",
    "\n",
    "# dusdata = mainFtExtr.FeatureSet(\n",
    "#     subs_incl = ['DUS024',],# 'DUS007'],\n",
    "#     centers_incl = [ 'DUS', ],\n",
    "#     verbose=False,\n",
    "# )\n",
    "\n",
    "# nantest = mainFtExtr.FeatureSet(\n",
    "#     subs_incl = ['BER019', 'BER019'],# 'DUS007'],\n",
    "#     centers_incl = [ 'BER', ],\n",
    "#     verbose=False,\n",
    "# )\n"
   ]
  },
  {
   "cell_type": "code",
   "execution_count": 5,
   "metadata": {},
   "outputs": [],
   "source": [
    "### IMPORT CREATED CLASSES FROM FILES\n",
    "from tap_extract_fts.main_featExtractionClass import FeatureSet, singleTrace\n",
    "\n",
    "importlib.reload(mainFtExtr)\n",
    "importlib.reload(utils_dataManagement)\n",
    "\n",
    "deriv_path = os.path.join(utils_dataManagement.get_local_proj_dir(), 'data', 'derivatives')\n",
    "\n",
    "# berClass = utils_dataManagement.load_class_pickle(os.path.join(deriv_path, 'ftClass_bertest.P'))\n",
    "# dusClass = utils_dataManagement.load_class_pickle(os.path.join(deriv_path, 'ftClass_DUS.P'))\n",
    "\n",
    "ftClass = utils_dataManagement.load_class_pickle(os.path.join(deriv_path, 'ftClass_ALL_20221123.P'))"
   ]
  },
  {
   "cell_type": "markdown",
   "metadata": {},
   "source": [
    "### 2a. Visualise detected Taps"
   ]
  },
  {
   "cell_type": "code",
   "execution_count": 6,
   "metadata": {},
   "outputs": [],
   "source": [
    "import tap_plotting.retap_check_taps as plot_taps"
   ]
  },
  {
   "cell_type": "code",
   "execution_count": 7,
   "metadata": {},
   "outputs": [],
   "source": [
    "### PLOT DETECTED TAPS\n",
    "importlib.reload(plot_taps)\n",
    "plot_taps.plot_detected_taps(ftClass)"
   ]
  },
  {
   "cell_type": "markdown",
   "metadata": {},
   "source": [
    "### 2b. Visualise Features as Group with Boxplots"
   ]
  },
  {
   "cell_type": "code",
   "execution_count": 74,
   "metadata": {},
   "outputs": [],
   "source": [
    "import tap_plotting.tapping_feat_boxplots as tapBoxplots\n",
    "import tap_plotting.retap_visualise_fts as retapViz"
   ]
  },
  {
   "cell_type": "code",
   "execution_count": 579,
   "metadata": {},
   "outputs": [
    {
     "name": "stdout",
     "output_type": "stream",
     "text": [
      "dict_keys(['sub', 'state', 'side', 'rep', 'center', 'filepath', 'tap_score', 'goal_Fs', 'to_extract_feats', 'acc_sig', 'fs', 'impact_idx', 'fts'])\n",
      "45\n"
     ]
    }
   ],
   "source": [
    "print(vars(ftClass.BER033_M0S1_R_2).keys())\n",
    "print(ftClass.BER033_M0S1_R_2.fts.nTaps)"
   ]
  },
  {
   "cell_type": "code",
   "execution_count": 587,
   "metadata": {},
   "outputs": [
    {
     "name": "stdout",
     "output_type": "stream",
     "text": [
      "BER023_M1S0_R_3\n",
      "DUS022_M0S0_L_1\n",
      "DUS006_M0S0_L_1\n",
      "\n",
      "UPDRS subscores: (array([0, 1, 2, 3, 4]), array([ 41, 151, 120,  59,   5], dtype=int64))\n",
      "In 37 unique subjects, 376 tap blocks found\n",
      "block durations: 11.801747989276139 +/- 2.5109399563989436\n",
      "n taps: 29.50402144772118 +/- 13.069133967035977\n"
     ]
    }
   ],
   "source": [
    "# print(vars(ftClass.BER033_M0S1_R_2.fts).keys())\n",
    "# 21 blocks false positive, missed 1\n",
    "# blocks without taps\n",
    "\n",
    "block_durations = []\n",
    "ntaps = []\n",
    "subs = []\n",
    "scores = []\n",
    "\n",
    "for trace in ftClass.incl_traces:\n",
    "    subs.append(getattr(ftClass, trace).sub)\n",
    "    scores.append(getattr(ftClass, trace).tap_score)\n",
    "\n",
    "    try:\n",
    "        ntaps.append(getattr(ftClass, trace).fts.nTaps)\n",
    "        block_durations.append(getattr(ftClass, trace).acc_sig.shape[1] / 250)\n",
    "        \n",
    "    except AttributeError:\n",
    "        print(trace)\n",
    "print()\n",
    "print(f'UPDRS subscores: {np.unique(scores, return_counts=True)}')\n",
    "print(f'In {len(np.unique(subs))} unique subjects, {len(ftClass.incl_traces)} tap blocks found')\n",
    "print(f'block durations: {np.mean(block_durations)} +/- {np.std(block_durations)}')\n",
    "print(f'n taps: {np.mean(ntaps)} +/- {np.std(ntaps)}')"
   ]
  },
  {
   "cell_type": "code",
   "execution_count": 16,
   "metadata": {},
   "outputs": [
    {
     "data": {
      "text/plain": [
       "array([ 0.17857143, 92.89285714])"
      ]
     },
     "execution_count": 16,
     "metadata": {},
     "output_type": "execute_result"
    }
   ],
   "source": [
    "a = np.array([91,93, 95, 93, 95, 97, 90, ])\n",
    "np.polyfit(np.arange(len(a)), a, 1)"
   ]
  },
  {
   "cell_type": "code",
   "execution_count": 499,
   "metadata": {},
   "outputs": [
    {
     "name": "stdout",
     "output_type": "stream",
     "text": [
      "(mean_tapRMSnrm)\t0 taps available for BER023_M1S0_R_3 (tap-subscore: 3)\n",
      "(mean_tapRMSnrm)\t0 taps available for DUS022_M0S0_L_1 (tap-subscore: 3)\n",
      "(mean_tapRMSnrm)\t0 taps available for DUS006_M0S0_L_1 (tap-subscore: 2)\n",
      "(coefVar_tapRMSnrm)\t0 taps available for BER023_M1S0_R_3 (tap-subscore: 3)\n",
      "(coefVar_tapRMSnrm)\t0 taps available for DUS022_M0S0_L_1 (tap-subscore: 3)\n",
      "(coefVar_tapRMSnrm)\t0 taps available for DUS006_M0S0_L_1 (tap-subscore: 2)\n",
      "(decr_tapRMSnrm)\t0 taps available for BER023_M1S0_R_3 (tap-subscore: 3)\n",
      "(decr_tapRMSnrm)\t0 taps available for DUS022_M0S0_L_1 (tap-subscore: 3)\n",
      "(decr_tapRMSnrm)\t0 taps available for DUS006_M0S0_L_1 (tap-subscore: 2)\n",
      "(slope_tapRMSnrm)\t0 taps available for BER023_M1S0_R_3 (tap-subscore: 3)\n",
      "(slope_tapRMSnrm)\t0 taps available for DUS022_M0S0_L_1 (tap-subscore: 3)\n",
      "(slope_tapRMSnrm)\t0 taps available for DUS006_M0S0_L_1 (tap-subscore: 2)\n"
     ]
    }
   ],
   "source": [
    "importlib.reload(retapViz)\n",
    "\n",
    "fts_include = [\n",
    "    'mean_tapRMSnrm', 'coefVar_tapRMSnrm', 'decr_tapRMSnrm', 'slope_tapRMSnrm',\n",
    "    'mean_intraTapInt', 'coefVar_intraTapInt', 'decr_intraTapInt', 'slope_intraTapInt',\n",
    "    'mean_jerkiness', 'coefVar_jerkiness', 'decr_jerkiness', 'slope_jerkiness'\n",
    "]\n",
    "\n",
    "tempScoreDict, fts_include = retapViz.sort_fts_on_tapScore(\n",
    "    ftClass=ftClass,\n",
    ")\n",
    "\n",
    "retapViz.plot_boxplot_feats_per_subscore(\n",
    "    fts_include=fts_include,\n",
    "    sorted_feat_dict=tempScoreDict,\n",
    "    plot_title='ReTap DUS and BER',# and DUS',\n",
    "    figsave_name=f'retap_fullCohort_{merge_meth}_v2',\n",
    "    figsave_dir=os.path.join(\n",
    "        utils_dataManagement.find_onedrive_path('figures'),\n",
    "        'fts_boxplots',\n",
    "    ),\n",
    "    show=False,\n",
    ")\n"
   ]
  },
  {
   "cell_type": "markdown",
   "metadata": {},
   "source": [
    "### 1d. Visualise single Features over Tap-course\n",
    "\n",
    "\n",
    "still to adapt to current feature class objects"
   ]
  },
  {
   "cell_type": "code",
   "execution_count": 151,
   "metadata": {},
   "outputs": [
    {
     "name": "stderr",
     "output_type": "stream",
     "text": [
      "/var/folders/7d/4ptht2m910d1y872jrgp9cq40000gp/T/ipykernel_32352/1711045685.py:63: RuntimeWarning: Mean of empty slice\n",
      "  meanFtPlot = np.nanmean(meanFtArr, axis=0)\n"
     ]
    }
   ],
   "source": [
    "ft = 'tapRMS_svm'\n",
    "\n",
    "sub = '007'\n",
    "side='L'\n",
    "\n",
    "mA_range = ['0', '05', '1', '15', '2', '25']\n",
    "\n",
    "colors = {'Off': 'blue', 'On': 'green'}\n",
    "fs=14\n",
    "\n",
    "for ft in [\n",
    "    'tapRMS_svm',\n",
    "    # 'upVelo_svm',\n",
    "    # 'impactRMS_svm',\n",
    "    # 'dirChange_taps',\n",
    "    # 'tap_durations',\n",
    "]:\n",
    "\n",
    "    plt.figure(figsize=(12, 6))\n",
    "\n",
    "    # get mean feature-course over 3 tapping-blocks of 10 sec\n",
    "    for med in ['Off', 'On']:\n",
    "\n",
    "        for a, mA in enumerate(mA_range):\n",
    "\n",
    "            try:\n",
    "                meanFt = [\n",
    "                    getattr(\n",
    "                        FEATS[f'{sub}_{side}_{med}_{mA}mA_b{bN}'],\n",
    "                        ft\n",
    "                    ) for bN in [1,2,3]\n",
    "                ]\n",
    "\n",
    "            except KeyError:  # tap-run not existing\n",
    "                continue  # dont calculate and plot line\n",
    "\n",
    "            except AttributeError:  # no taps detected -> no features extracted\n",
    "                meanFt = []\n",
    "                emptyCount = ' '\n",
    "\n",
    "                for bN in [1,2,3]:\n",
    "                    key = f'{sub}_{side}_{med}_{mA}mA_b{bN}'\n",
    "                    \n",
    "                    if ft in vars(FEATS[key]).keys():\n",
    "                        meanFt.append(getattr(FEATS[key], ft))\n",
    "                    \n",
    "                    else:\n",
    "                        emptyCount += '*'\n",
    "                \n",
    "                if meanFt == []:  # all runs without taps/features\n",
    "                    meanFt = [[0]]\n",
    "\n",
    "            # transform ft-lists per run into mean array\n",
    "            maxLen = max(\n",
    "                [len(meanFt[n]) for n in range(len(meanFt))]\n",
    "            )\n",
    "            meanFtArr = np.array(\n",
    "                [[np.nan] * maxLen] * len(meanFt))\n",
    "            \n",
    "            for n, l in enumerate(meanFt):\n",
    "                meanFtArr[n, :len(l)] = l\n",
    "            \n",
    "            meanFtPlot = np.nanmean(meanFtArr, axis=0)\n",
    "\n",
    "            # average updrsSubScore over 3 runs\n",
    "            meanTapScore = np.round(np.mean([\n",
    "                getattr(\n",
    "                    FEATS[f'{sub}_{side}_{med}_{mA}mA_b{bN}'],\n",
    "                    'updrsSubScore'\n",
    "                ) for bN in [1,2,3]\n",
    "            ]), 1)\n",
    "\n",
    "            tapLabel = f'Med{med} {mA} mA  (updrs {meanTapScore})'\n",
    "            \n",
    "            try:\n",
    "                tapLabel += emptyCount\n",
    "                del(emptyCount)\n",
    "\n",
    "            except:\n",
    "                tapLabel = tapLabel\n",
    "\n",
    "            plt.plot(\n",
    "                meanFtPlot, c=colors[med],\n",
    "                alpha=.1 + (.15 * a),\n",
    "                label=tapLabel,\n",
    "            )\n",
    "            \n",
    "\n",
    "            \n",
    "\n",
    "    plt.ylabel(f'{ft} (a.u.)', size=fs,)\n",
    "    plt.xlabel('Taps over time (# of tap)', size=fs,)\n",
    "\n",
    "    plt.tick_params(axis='both', size=fs, labelsize=fs)\n",
    "\n",
    "    plt.legend(\n",
    "        frameon=False, ncol=1,\n",
    "        bbox_to_anchor=(1, .9), loc='upper left',\n",
    "        fontsize=fs,\n",
    "    )\n",
    "\n",
    "    plt.title(\n",
    "        f'Feature course of \"{ft}\"    -     '\n",
    "        f'Sub-{sub}, {side}-side'\n",
    "        f'\\n(mean over 3 10-sec blocks in same condition)',\n",
    "        fontsize=fs+6,\n",
    "    )\n",
    "    plt.tight_layout()\n",
    "\n",
    "    plt.savefig(\n",
    "        os.path.join(\n",
    "            fig_dir,\n",
    "            'ft_course_tapping',\n",
    "            f'TEST____{sub}_{side}_ftCourse_{ft}'\n",
    "        ),\n",
    "        dpi=150, facecolor='w',\n",
    "    )\n",
    "    plt.close()"
   ]
  }
 ],
 "metadata": {
  "kernelspec": {
   "display_name": "Python 3.9.7 ('ecog_dysk')",
   "language": "python",
   "name": "python3"
  },
  "language_info": {
   "codemirror_mode": {
    "name": "ipython",
    "version": 3
   },
   "file_extension": ".py",
   "mimetype": "text/x-python",
   "name": "python",
   "nbconvert_exporter": "python",
   "pygments_lexer": "ipython3",
   "version": "3.9.7"
  },
  "orig_nbformat": 4,
  "vscode": {
   "interpreter": {
    "hash": "3215b98ba4c40f90b358cffaa32696e7bfbdbe38275c45cfefc4b84b3a964fcf"
   }
  }
 },
 "nbformat": 4,
 "nbformat_minor": 2
}

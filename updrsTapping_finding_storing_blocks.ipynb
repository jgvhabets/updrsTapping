{
 "cells": [
  {
   "cell_type": "markdown",
   "metadata": {},
   "source": [
    "## ReTap - UPDRS-Tapping Assessment - Automated 10-sec block selection\n",
    "\n",
    "This notebooks finds, plots, and stores 10-sec-tapping blocks out of raw accelerometer data.\n",
    "\n"
   ]
  },
  {
   "cell_type": "markdown",
   "metadata": {},
   "source": [
    "### 0. Loading packages and functions, defining paths\n",
    "\n"
   ]
  },
  {
   "cell_type": "code",
   "execution_count": 6,
   "metadata": {},
   "outputs": [],
   "source": [
    "# Importing Python and external packages\n",
    "import os\n",
    "import sys\n",
    "import importlib\n",
    "import json\n",
    "import pandas as pd\n",
    "import numpy as np\n",
    "import sklearn as sk\n",
    "import scipy\n",
    "import matplotlib.pyplot as plt\n",
    "\n",
    "import seaborn as sns\n",
    "from scipy import signal\n",
    "from scipy import stats\n",
    "from array import array\n",
    "import datetime as dt\n",
    "import h5py\n",
    "from dataclasses import  dataclass, field\n",
    "from itertools import compress\n",
    "from typing import Any"
   ]
  },
  {
   "cell_type": "code",
   "execution_count": 2,
   "metadata": {},
   "outputs": [
    {
     "name": "stdout",
     "output_type": "stream",
     "text": [
      "Python sys 3.9.7 (default, Sep 16 2021, 08:50:36) \n",
      "[Clang 10.0.0 ]\n",
      "pandas 1.3.4\n",
      "numpy 1.20.3\n",
      "sci-py 1.7.1\n",
      "sci-kit learn 1.0.1\n"
     ]
    }
   ],
   "source": [
    "# check some package versions for documentation and reproducability\n",
    "print('Python sys', sys.version)\n",
    "print('pandas', pd.__version__)\n",
    "print('numpy', np.__version__)\n",
    "# print('mne_bids', mne_bids.__version__)\n",
    "# print('mne', mne.__version__)\n",
    "print('sci-py', scipy.__version__)\n",
    "print('sci-kit learn', sk.__version__)\n",
    "\n",
    "\n",
    "## developed with:\n",
    "# Python sys 3.9.7 (default, Sep 16 2021, 08:50:36) \n",
    "# [Clang 10.0.0 ]\n",
    "# pandas 1.3.4\n",
    "# numpy 1.20.3\n",
    "# mne_bids 0.9\n",
    "# mne 0.24.1\n",
    "# sci-py 1.7.1\n",
    "# sci-kit learn 1.0.1\n",
    "\n",
    "## Currently (Mac) since 31.08.22\n",
    "# Python sys 3.9.12 (main, Jun  1 2022, 06:36:29) \n",
    "# [Clang 12.0.0 ]\n",
    "# pandas 1.4.3\n",
    "# numpy 1.21.5\n",
    "# sci-py 1.7.3\n",
    "# sci-kit learn 1.1.1\n",
    "\n",
    "## Currently (WIN)\n",
    "# Python sys 3.9.13 (main, Oct 13 2022, 21:23:06) [MSC v.1916 64 bit (AMD64)]\n",
    "# pandas 1.4.4\n",
    "# numpy 1.23.3\n",
    "# sci-py 1.9.1\n",
    "# sci-kit learn 1.1.2"
   ]
  },
  {
   "cell_type": "code",
   "execution_count": 3,
   "metadata": {},
   "outputs": [],
   "source": [
    "import run_finding_10sec_blocks as run_find_blocks"
   ]
  },
  {
   "cell_type": "code",
   "execution_count": 4,
   "metadata": {},
   "outputs": [],
   "source": [
    "# own data preprocessing functions\n",
    "import tap_load_data.updrsTapping_import as tap_import\n",
    "import tap_load_data.tapping_preprocess as tap_preproc\n",
    "import tap_load_data.tapping_find_blocks as find_blocks\n",
    "import tap_load_data.tapping_impact_finder as tap_impact\n",
    "import tap_load_data.tapping_time_detect as tap_times\n",
    "\n",
    "import tapping_run as tap_run\n",
    "\n",
    "# ft extraction\n",
    "import tap_extract_fts.tapping_featureset as tap_fts_set\n",
    "import tap_extract_fts.tapping_extract_features as tap_ft_extr\n",
    "import tap_extract_fts.tapping_feat_calc as ft_calc\n",
    "\n",
    "# own data exploration functions\n",
    "import tap_extract_fts.tapping_feat_boxplots as fts_boxplot\n",
    "\n",
    "# own helper functions\n",
    "from utils import utils_dataManagement, tmsi_poly5reader, utils_preprocessing"
   ]
  },
  {
   "cell_type": "code",
   "execution_count": 5,
   "metadata": {},
   "outputs": [],
   "source": [
    "import run_finding_10sec_blocks as run_blocks\n",
    "\n"
   ]
  },
  {
   "cell_type": "code",
   "execution_count": 28,
   "metadata": {},
   "outputs": [
    {
     "name": "stdout",
     "output_type": "stream",
     "text": [
      "/Users/jeroenhabets/OneDrive - Charité - Universitätsmedizin Berlin/ReTap/data/BER/UNCUT\n",
      "files selected: ['Sub056_Postop_M0S0_BStr_FTRHand - 20220819T092253.DATA.Poly5']\n",
      "Reading file  /Users/jeroenhabets/OneDrive - Charité - Universitätsmedizin Berlin/ReTap/data/BER/UNCUT/Sub056_Postop_M0S0_BStr_FTRHand - 20220819T092253.DATA.Poly5\n",
      "\t Number of samples:  198699 \n",
      "\t Number of channels:  38 \n",
      "\t Sample rate: 2048 Hz\n",
      "Done reading data.\n",
      "{'R_X': 28, 'R_Y': 29, 'R_Z': 30}\n",
      "['ExG1', 'ExG2', 'ExG3', 'ExG4', 'ExG5', 'ExG6', 'ExG7', 'ExG8', 'ExG9', 'ExG10', 'ExG11', 'ExG12', 'ExG13', 'ExG14', 'ExG15', 'ExG16', 'Bip17', 'Bip18', 'Bip19', 'Bip20', 'Bip21', 'Bip22', 'Bip23', 'Bip24', 'Bip25', 'Bip26', 'Bip27', 'Bip28', 'Aux29', 'Aux30', 'Aux31', 'Empty', 'SaO2', 'Pleth', 'HRate', 'Status', 'Digi', 'Saw']\n",
      "No left indices\n",
      "Pos/Neg switched\n",
      "51 outlier-timepoints to remove\n",
      "\n",
      "\n",
      "ACT THRESH. 0.14318340046561154\n",
      "\n",
      "\n",
      "\n",
      "\n",
      "BLOCK INDICES-windows AFTER MERGING: {'start': [0, 249, 411, 577], 'end': [2, 332, 495, 658]}\n",
      "\n",
      "\n",
      "BLOCK INDICES-samples AFTER MERGING: {'start': array([    0,  7719, 12741, 17887]), 'end': array([   62, 10292, 15345, 20398])}\n",
      "deleted blocks: []\n",
      "# 3 tapping blocks detected, lengths (in sec): [10.292, 10.416, 10.044]\n",
      "plotting 056_M0S0_R_blocks_detected...\n",
      "saved block 0: BER056_M0S0_R_block1_250Hz.csv @ /Users/jeroenhabets/Research/CHARITE/projects/tapping/data/tap_block_csvs\n",
      "saved block 1: BER056_M0S0_R_block2_250Hz.csv @ /Users/jeroenhabets/Research/CHARITE/projects/tapping/data/tap_block_csvs\n",
      "saved block 2: BER056_M0S0_R_block3_250Hz.csv @ /Users/jeroenhabets/Research/CHARITE/projects/tapping/data/tap_block_csvs\n"
     ]
    }
   ],
   "source": [
    "importlib.reload(utils_dataManagement)\n",
    "importlib.reload(utils_preprocessing)\n",
    "importlib.reload(tmsi_poly5reader)\n",
    "importlib.reload(run_blocks)\n",
    "importlib.reload(find_blocks)\n",
    "importlib.reload(tap_preproc)\n",
    "\n",
    "uncut_path = utils_dataManagement.find_stored_data_path()\n",
    "print(uncut_path)\n",
    "\n",
    "data = run_blocks.rawAccData(\n",
    "    sub='056',\n",
    "    state='M0S0',\n",
    "    joker_string='FTR',\n",
    "    uncut_path=uncut_path\n",
    ")"
   ]
  },
  {
   "cell_type": "code",
   "execution_count": 11,
   "metadata": {},
   "outputs": [
    {
     "name": "stdout",
     "output_type": "stream",
     "text": [
      "['ExG1', 'ExG2', 'ExG3', 'ExG4', 'ExG5', 'ExG6', 'ExG7', 'ExG8', 'ExG9', 'ExG10', 'ExG11', 'ExG12', 'ExG13', 'ExG14', 'ExG15', 'ExG16', 'Bip17', 'Bip18', 'Bip19', 'Bip20', 'Bip21', 'Bip22', 'Bip23', 'Bip24', 'Bip25', 'Bip26', 'Bip27', 'Bip28', 'Aux29', 'Aux30', 'Aux31', 'Empty', 'SaO2', 'Pleth', 'HRate', 'Status', 'Digi', 'Saw']\n"
     ]
    },
    {
     "data": {
      "image/png": "[encoded data removed]",
      "text/plain": [
       "<Figure size 432x288 with 1 Axes>"
      ]
     },
     "metadata": {
      "needs_background": "light"
     },
     "output_type": "display_data"
    },
    {
     "data": {
      "image/png": "[encoded data removed]",
      "text/plain": [
       "<Figure size 432x288 with 1 Axes>"
      ]
     },
     "metadata": {
      "needs_background": "light"
     },
     "output_type": "display_data"
    },
    {
     "data": {
      "image/png": "[encoded data removed]",
      "text/plain": [
       "<Figure size 432x288 with 1 Axes>"
      ]
     },
     "metadata": {
      "needs_background": "light"
     },
     "output_type": "display_data"
    },
    {
     "data": {
      "image/png": "[encoded data removed]",
      "text/plain": [
       "<Figure size 432x288 with 1 Axes>"
      ]
     },
     "metadata": {
      "needs_background": "light"
     },
     "output_type": "display_data"
    }
   ],
   "source": [
    "print(data.raw.ch_names)\n",
    "\n",
    "for i, key in enumerate(data.raw.ch_names):\n",
    "\n",
    "    if np.logical_or(i==0, 'aux' in key.lower()):\n",
    "\n",
    "        plt.plot(data.raw.samples[i, :].T)\n",
    "        plt.title(f'{i}, {key}')\n",
    "        plt.show()\n"
   ]
  }
 ],
 "metadata": {
  "kernelspec": {
   "display_name": "Python 3.9.7 ('ecog_dysk')",
   "language": "python",
   "name": "python3"
  },
  "language_info": {
   "codemirror_mode": {
    "name": "ipython",
    "version": 3
   },
   "file_extension": ".py",
   "mimetype": "text/x-python",
   "name": "python",
   "nbconvert_exporter": "python",
   "pygments_lexer": "ipython3",
   "version": "3.9.7"
  },
  "orig_nbformat": 4,
  "vscode": {
   "interpreter": {
    "hash": "3215b98ba4c40f90b358cffaa32696e7bfbdbe38275c45cfefc4b84b3a964fcf"
   }
  }
 },
 "nbformat": 4,
 "nbformat_minor": 2
}

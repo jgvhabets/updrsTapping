{
 "cells": [
  {
   "cell_type": "code",
   "execution_count": null,
   "metadata": {},
   "outputs": [],
   "source": [
    "# Importing Python and external packages\n",
    "import os\n",
    "import sys\n",
    "import json\n",
    "import importlib\n",
    "import pandas as pd\n",
    "import numpy as np\n",
    "import sklearn as sk\n",
    "import scipy\n",
    "import matplotlib.pyplot as plt\n",
    "\n",
    "from itertools import product"
   ]
  },
  {
   "cell_type": "code",
   "execution_count": null,
   "metadata": {},
   "outputs": [],
   "source": [
    "# check some package versions for documentation and reproducability\n",
    "print('Python sys', sys.version)\n",
    "print('pandas', pd.__version__)\n",
    "print('numpy', np.__version__)\n",
    "# print('mne_bids', mne_bids.__version__)\n",
    "# print('mne', mne.__version__)\n",
    "print('sci-py', scipy.__version__)\n",
    "print('sci-kit learn', sk.__version__)"
   ]
  },
  {
   "cell_type": "code",
   "execution_count": null,
   "metadata": {},
   "outputs": [],
   "source": [
    "import retap_utils.utils_dataManagement as utils_dataMn\n"
   ]
  },
  {
   "cell_type": "code",
   "execution_count": null,
   "metadata": {},
   "outputs": [],
   "source": [
    "# DEFINE RETAP OUTCOME DIRECTORY\n",
    "ft_path = os.path.join(utils_dataMn.get_local_proj_dir(),\n",
    "                       'aDBS_tapping',\n",
    "                       'retap_results', 'features')\n",
    "assert os.path.exists(ft_path), 'defined ft_path does not exist'\n",
    "fig_path = os.path.join(utils_dataMn.get_local_proj_dir(),\n",
    "                       'aDBS_tapping', 'figures')\n",
    "if not os.path.exists(fig_path): os.makedirs(fig_path)"
   ]
  },
  {
   "cell_type": "code",
   "execution_count": null,
   "metadata": {},
   "outputs": [],
   "source": [
    "# DEFINE FEATURES OF INTEREST\n",
    "FEAT_SEL = ['trace_RMSn',\n",
    "            'coefVar_impactRMS',\n",
    "            'coefVar_intraTapInt',\n",
    "            'mean_raise_velocity']"
   ]
  },
  {
   "cell_type": "markdown",
   "metadata": {},
   "source": [
    "explore aDBS data content\n"
   ]
  },
  {
   "cell_type": "code",
   "execution_count": null,
   "metadata": {},
   "outputs": [],
   "source": [
    "subs = np.unique([f.split('_')[1] for f in os.listdir(ft_path)])\n",
    "\n",
    "print(len(subs), subs)"
   ]
  },
  {
   "cell_type": "code",
   "execution_count": null,
   "metadata": {},
   "outputs": [],
   "source": [
    "files_dict = {}\n",
    "for sub in subs:\n",
    "    print(sub)\n",
    "    files = [f for f in os.listdir(ft_path) if f'{sub}_' in f and 'medoff' in f.lower()]\n",
    "    on_file = [f for f in files if 'first' in f and 'cdbs' in f.lower()\n",
    "                and 'stimon' in f.lower()][0]\n",
    "    off_file = [f for f in files if 'first' in f and 'cdbs' in f.lower()\n",
    "                and 'stimoff' in f.lower()][0]\n",
    "    \n",
    "    with open(os.path.join(ft_path, off_file), 'r') as f:\n",
    "        off_file = json.load(f)\n",
    "    with open(os.path.join(ft_path, on_file), 'r') as f:\n",
    "        on_file = json.load(f)\n",
    "\n",
    "    files_dict[sub] = {'on': on_file, 'off': off_file}"
   ]
  },
  {
   "cell_type": "code",
   "execution_count": null,
   "metadata": {},
   "outputs": [],
   "source": [
    "box_lists = []\n",
    "box_labels = []\n",
    "\n",
    "for ft, con in product(FEAT_SEL, ['off', 'on']):\n",
    "    box_labels.append(f'{ft} {con}')\n",
    "    values = [files_dict[s][con][ft] for s in subs]\n",
    "    box_lists.append(values)"
   ]
  },
  {
   "cell_type": "code",
   "execution_count": null,
   "metadata": {},
   "outputs": [],
   "source": [
    "method = 'norm'\n",
    "\n",
    "for i_ft, ft in enumerate(FEAT_SEL):\n",
    "\n",
    "    off = box_lists[i_ft * 2]\n",
    "    on = box_lists[i_ft * 2 + 1]\n",
    "\n",
    "    if method == 'norm':\n",
    "        norm_value = np.nanmax(off)\n",
    "        off = np.array(off) / norm_value\n",
    "        on = np.array(on) / norm_value\n",
    "    elif method == 'std':\n",
    "        norm_m = np.nanmean(off)\n",
    "        norm_sd = np.nanstd(off)\n",
    "        off = (np.array(off) - norm_m) / norm_sd\n",
    "        on = (np.array(on) - norm_m) / norm_sd\n",
    "\n",
    "    box_lists[i_ft * 2] = off\n",
    "    box_lists[i_ft * 2 + 1] = on"
   ]
  },
  {
   "cell_type": "code",
   "execution_count": null,
   "metadata": {},
   "outputs": [],
   "source": [
    "SCATTER = True\n",
    "SCATTER_LINES = True\n",
    "\n",
    "fig_name = f'firstRun_4feats_cDBSOffvsOn_{method}'\n",
    "\n",
    "fig, ax = plt.subplots(1, 1, figsize=(8, 6))\n",
    "\n",
    "fontsize=14\n",
    "\n",
    "ax.boxplot(box_lists, positions=np.arange(len(box_lists)),)\n",
    "ax.set_xticklabels(box_labels, rotation=90,\n",
    "                   size=fontsize)\n",
    "if method == 'norm':\n",
    "    ylabel = 'Normalised feature values\\n(against max OFF value)'\n",
    "elif method == 'std':\n",
    "    ylabel = 'Standardised feature values\\n(against OFF values)'\n",
    "\n",
    "if SCATTER:\n",
    "    for i_x, values in enumerate(box_lists):\n",
    "        ax.scatter([i_x] * len(values), values,\n",
    "                   alpha=.3)\n",
    "if SCATTER_LINES:\n",
    "    for i_ft in np.arange(len(FEAT_SEL)):\n",
    "        for i_sub in np.arange(len(box_lists[i_ft])):\n",
    "            y1 = box_lists[i_ft * 2][i_sub]\n",
    "            y2 = box_lists[i_ft * 2 + 1][i_sub]\n",
    "            ax.plot([i_ft*2, i_ft*2+1], [y1, y2],\n",
    "                    c='gray', alpha=.3)\n",
    "\n",
    "ax.set_ylabel(ylabel,\n",
    "              size=fontsize)\n",
    "\n",
    "plt.tick_params(axis='both', labelsize=fontsize, size=fontsize)\n",
    "\n",
    "plt.tight_layout()\n",
    "\n",
    "plt.savefig(os.path.join(fig_path, fig_name), dpi=300,\n",
    "            facecolor='w',)\n",
    "plt.close()"
   ]
  }
 ],
 "metadata": {
  "kernelspec": {
   "display_name": "retap",
   "language": "python",
   "name": "python3"
  },
  "language_info": {
   "codemirror_mode": {
    "name": "ipython",
    "version": 3
   },
   "file_extension": ".py",
   "mimetype": "text/x-python",
   "name": "python",
   "nbconvert_exporter": "python",
   "pygments_lexer": "ipython3",
   "version": "3.9.13"
  },
  "orig_nbformat": 4
 },
 "nbformat": 4,
 "nbformat_minor": 2
}

{
 "cells": [
  {
   "cell_type": "code",
   "execution_count": 21,
   "metadata": {},
   "outputs": [],
   "source": [
    "# Importing Python and external packages\n",
    "import os\n",
    "import sys\n",
    "import json\n",
    "import importlib\n",
    "import pandas as pd\n",
    "import numpy as np\n",
    "import sklearn as sk\n",
    "import scipy\n",
    "import matplotlib.pyplot as plt\n",
    "\n"
   ]
  },
  {
   "cell_type": "code",
   "execution_count": 2,
   "metadata": {},
   "outputs": [
    {
     "name": "stdout",
     "output_type": "stream",
     "text": [
      "Python sys 3.9.13 (main, Oct 13 2022, 21:23:06) [MSC v.1916 64 bit (AMD64)]\n",
      "pandas 1.4.4\n",
      "numpy 1.23.3\n",
      "sci-py 1.9.1\n",
      "sci-kit learn 1.1.2\n"
     ]
    }
   ],
   "source": [
    "# check some package versions for documentation and reproducability\n",
    "print('Python sys', sys.version)\n",
    "print('pandas', pd.__version__)\n",
    "print('numpy', np.__version__)\n",
    "# print('mne_bids', mne_bids.__version__)\n",
    "# print('mne', mne.__version__)\n",
    "print('sci-py', scipy.__version__)\n",
    "print('sci-kit learn', sk.__version__)"
   ]
  },
  {
   "cell_type": "code",
   "execution_count": 3,
   "metadata": {},
   "outputs": [],
   "source": [
    "import retap_utils.utils_dataManagement as utils_dataMn\n"
   ]
  },
  {
   "cell_type": "code",
   "execution_count": 5,
   "metadata": {},
   "outputs": [],
   "source": [
    "# DEFINE RETAP OUTCOME DIRECTORY\n",
    "ft_path = os.path.join(utils_dataMn.get_local_proj_dir(),\n",
    "                       'aDBS_tapping',\n",
    "                       'retap_results', 'features')\n",
    "assert os.path.exists(ft_path), 'defined ft_path does not exist'\n"
   ]
  },
  {
   "cell_type": "code",
   "execution_count": 27,
   "metadata": {},
   "outputs": [],
   "source": [
    "# DEFINE FEATURES OF INTEREST\n",
    "FEAT_SEL = ['trace_RMSn',\n",
    "            'coefVar_impactRMS',\n",
    "            'coefVar_intraTapInt',\n",
    "            'mean_raise_velocity']"
   ]
  },
  {
   "cell_type": "markdown",
   "metadata": {},
   "source": [
    "explore aDBS data content\n"
   ]
  },
  {
   "cell_type": "code",
   "execution_count": 7,
   "metadata": {},
   "outputs": [
    {
     "name": "stdout",
     "output_type": "stream",
     "text": [
      "14 ['sub-529DT76' 'sub-530OE55' 'sub-531AI63' 'sub-531AI63L' 'sub-532LO56'\n",
      " 'sub-533AI56' 'sub-536EU64' 'sub-537BI55' 'sub-538OR56' 'sub-539ER50'\n",
      " 'sub-540AE50' 'sub-541IR68' 'sub-541IR68R' 'sub-542AC52']\n"
     ]
    }
   ],
   "source": [
    "subs = np.unique([f.split('_')[1] for f in os.listdir(ft_path)])\n",
    "\n",
    "print(len(subs), subs)"
   ]
  },
  {
   "cell_type": "code",
   "execution_count": 23,
   "metadata": {},
   "outputs": [
    {
     "name": "stdout",
     "output_type": "stream",
     "text": [
      "sub-529DT76\n",
      "sub-530OE55\n",
      "sub-531AI63\n",
      "sub-531AI63L\n",
      "sub-532LO56\n",
      "sub-533AI56\n",
      "sub-536EU64\n",
      "sub-537BI55\n",
      "sub-538OR56\n",
      "sub-539ER50\n",
      "sub-540AE50\n",
      "sub-541IR68\n",
      "sub-541IR68R\n",
      "sub-542AC52\n"
     ]
    }
   ],
   "source": [
    "files_dict = {}\n",
    "for sub in subs:\n",
    "    print(sub)\n",
    "    files = [f for f in os.listdir(ft_path) if f'{sub}_' in f and 'medoff' in f.lower()]\n",
    "    on_file = [f for f in files if 'first' in f and 'cdbs' in f.lower()\n",
    "                and 'stimon' in f.lower()][0]\n",
    "    off_file = [f for f in files if 'first' in f and 'cdbs' in f.lower()\n",
    "                and 'stimoff' in f.lower()][0]\n",
    "    \n",
    "    with open(os.path.join(ft_path, off_file), 'r') as f:\n",
    "        off_file = json.load(f)\n",
    "    with open(os.path.join(ft_path, on_file), 'r') as f:\n",
    "        on_file = json.load(f)\n",
    "\n",
    "    files_dict[sub] = {'on': on_file, 'off': off_file}"
   ]
  },
  {
   "cell_type": "code",
   "execution_count": null,
   "metadata": {},
   "outputs": [],
   "source": []
  },
  {
   "cell_type": "code",
   "execution_count": 26,
   "metadata": {},
   "outputs": [
    {
     "data": {
      "text/plain": [
       "dict_keys(['triax_arr', 'fs', 'impacts', 'tap_lists', 'max_n_taps_incl', 'total_nTaps', 'freq', 'tap_durations', 'trace_RMSn', 'trace_entropy', 'intraTapInt', 'tapRMS', 'tapRMSnrm', 'impactRMS', 'raise_velocity', 'jerkiness_taps', 'jerkiness_trace', 'tap_entropy', 'mean_tapRMS', 'coefVar_tapRMS', 'IQR_tapRMS', 'decr_tapRMS', 'slope_tapRMS', 'mean_tapRMSnrm', 'coefVar_tapRMSnrm', 'IQR_tapRMSnrm', 'decr_tapRMSnrm', 'slope_tapRMSnrm', 'mean_impactRMS', 'coefVar_impactRMS', 'IQR_impactRMS', 'decr_impactRMS', 'slope_impactRMS', 'mean_raise_velocity', 'coefVar_raise_velocity', 'IQR_raise_velocity', 'decr_raise_velocity', 'slope_raise_velocity', 'mean_intraTapInt', 'coefVar_intraTapInt', 'IQR_intraTapInt', 'decr_intraTapInt', 'slope_intraTapInt', 'mean_jerkiness_taps', 'coefVar_jerkiness_taps', 'IQR_jerkiness_taps', 'decr_jerkiness_taps', 'slope_jerkiness_taps', 'mean_tap_entropy', 'coefVar_tap_entropy', 'IQR_tap_entropy', 'decr_tap_entropy', 'slope_tap_entropy'])"
      ]
     },
     "execution_count": 26,
     "metadata": {},
     "output_type": "execute_result"
    }
   ],
   "source": [
    "files_dict['sub-529DT76']['on'].keys()"
   ]
  }
 ],
 "metadata": {
  "kernelspec": {
   "display_name": "retap",
   "language": "python",
   "name": "python3"
  },
  "language_info": {
   "codemirror_mode": {
    "name": "ipython",
    "version": 3
   },
   "file_extension": ".py",
   "mimetype": "text/x-python",
   "name": "python",
   "nbconvert_exporter": "python",
   "pygments_lexer": "ipython3",
   "version": "3.9.13"
  },
  "orig_nbformat": 4
 },
 "nbformat": 4,
 "nbformat_minor": 2
}

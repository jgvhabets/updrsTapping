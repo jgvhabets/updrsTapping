{
 "cells": [
  {
   "cell_type": "code",
   "execution_count": null,
   "metadata": {},
   "outputs": [],
   "source": [
    "# Importing Python and external packages\n",
    "import os\n",
    "import sys\n",
    "import json\n",
    "import importlib\n",
    "import pandas as pd\n",
    "import numpy as np\n",
    "import sklearn as sk\n",
    "from scipy import stats, signal\n",
    "import matplotlib.pyplot as plt\n",
    "\n",
    "from itertools import product"
   ]
  },
  {
   "cell_type": "code",
   "execution_count": null,
   "metadata": {},
   "outputs": [],
   "source": [
    "# check some package versions for documentation and reproducability\n",
    "print('Python sys', sys.version)\n",
    "print('pandas', pd.__version__)\n",
    "print('numpy', np.__version__)\n",
    "# print('mne_bids', mne_bids.__version__)\n",
    "# print('mne', mne.__version__)\n",
    "print('sci-py', scipy.__version__)\n",
    "print('sci-kit learn', sk.__version__)"
   ]
  },
  {
   "cell_type": "code",
   "execution_count": null,
   "metadata": {},
   "outputs": [],
   "source": [
    "import retap_utils.utils_dataManagement as utils_dataMn\n"
   ]
  },
  {
   "cell_type": "code",
   "execution_count": null,
   "metadata": {},
   "outputs": [],
   "source": [
    "# DEFINE RETAP OUTCOME DIRECTORY\n",
    "ft_path = os.path.join(utils_dataMn.get_local_proj_dir(),\n",
    "                       'aDBS_tapping',\n",
    "                       'retap_results', 'features')\n",
    "assert os.path.exists(ft_path), 'defined ft_path does not exist'\n",
    "fig_path = os.path.join(utils_dataMn.get_local_proj_dir(),\n",
    "                       'aDBS_tapping', 'figures')\n",
    "if not os.path.exists(fig_path): os.makedirs(fig_path)"
   ]
  },
  {
   "cell_type": "code",
   "execution_count": null,
   "metadata": {},
   "outputs": [],
   "source": [
    "# DEFINE FEATURES OF INTEREST\n",
    "FEAT_SEL = ['trace_RMSn',\n",
    "            'coefVar_impactRMS',\n",
    "            'coefVar_intraTapInt',\n",
    "            'mean_raise_velocity']\n",
    "\n",
    "NORM_METHOD = 'norm'"
   ]
  },
  {
   "cell_type": "markdown",
   "metadata": {},
   "source": [
    "explore aDBS data content\n"
   ]
  },
  {
   "cell_type": "code",
   "execution_count": null,
   "metadata": {},
   "outputs": [],
   "source": [
    "def get_unique_subs(ft_path):\n",
    "    \n",
    "    subs = np.unique([f.split('_')[1] for f in os.listdir(ft_path)])\n",
    "\n",
    "    return subs"
   ]
  },
  {
   "cell_type": "code",
   "execution_count": null,
   "metadata": {},
   "outputs": [],
   "source": [
    "def load_on_off_first10(subs, ft_path, sel_30sec_part='first'):\n",
    "    \n",
    "    allowed_part_sel = ['first', 'last', 'full', 'diff']\n",
    "    \n",
    "    assert sel_30sec_part in allowed_part_sel, (\n",
    "        f'sel_30s_part should be in {allowed_part_sel}'\n",
    "    )\n",
    "\n",
    "    files_dict = {}\n",
    "    for sub in subs:\n",
    "        \n",
    "        files_dict[sub] = {}\n",
    "\n",
    "        # only consider Med OFF recordings\n",
    "        files = [f for f in os.listdir(ft_path)\n",
    "                 if f'{sub}_' in f\n",
    "                 and 'medoff' in f.lower()]\n",
    "        \n",
    "        if sel_30sec_part != 'diff':\n",
    "            # select off and on cont DBS (for first, last, or full)\n",
    "            for stim in ['off', 'on']:\n",
    "                json_file = [f for f in files if sel_30sec_part in f\n",
    "                        and 'cdbs' in f.lower()\n",
    "                        and f'stim{stim}' in f.lower()][0]\n",
    "                # load json with features\n",
    "                with open(os.path.join(ft_path, json_file), 'r') as f:\n",
    "                    files_dict[sub][stim] = json.load(f)\n",
    "            \n",
    "        elif sel_30sec_part == 'diff':\n",
    "            # select off and on cont DBS for first AND last\n",
    "            for sel, stim in product(['first', 'last'], ['off', 'on']):\n",
    "                json_file = [f for f in files if sel in f\n",
    "                             and 'cdbs' in f.lower()\n",
    "                             and f'stim{stim}' in f.lower()][0]\n",
    "                # load json file\n",
    "                with open(os.path.join(ft_path, json_file), 'r') as f:\n",
    "                    files_dict[sub][f'{stim}_{sel}'] = json.load(f)\n",
    "            \n",
    "    return files_dict"
   ]
  },
  {
   "cell_type": "code",
   "execution_count": null,
   "metadata": {},
   "outputs": [],
   "source": [
    "def norm_feat_lists(box_lists, feat_names,\n",
    "                    norm_method):\n",
    "\n",
    "    for i_ft, ft in enumerate(feat_names):\n",
    "\n",
    "        off = box_lists[i_ft * 2]\n",
    "        on = box_lists[i_ft * 2 + 1]\n",
    "\n",
    "        if norm_method == 'norm':\n",
    "            norm_value = np.nanmax(off)\n",
    "            off = np.array(off) / norm_value\n",
    "            on = np.array(on) / norm_value\n",
    "        elif norm_method == 'std':\n",
    "            norm_m = np.nanmean(off)\n",
    "            norm_sd = np.nanstd(off)\n",
    "            off = (np.array(off) - norm_m) / norm_sd\n",
    "            on = (np.array(on) - norm_m) / norm_sd\n",
    "\n",
    "        box_lists[i_ft * 2] = off\n",
    "        box_lists[i_ft * 2 + 1] = on\n",
    "\n",
    "        S, p = stats.ttest_rel(off, on)\n",
    "        print(f'{ft}: R: {round(S, 3)}, p = {round(p, 5)}')\n",
    "    \n",
    "    return box_lists"
   ]
  },
  {
   "cell_type": "code",
   "execution_count": null,
   "metadata": {},
   "outputs": [],
   "source": [
    "def extract_feature_lists(files_dict, feat_names, subs,\n",
    "                          norm_method=False,):\n",
    "\n",
    "    conditions = ['off', 'on']\n",
    "\n",
    "    box_lists = []\n",
    "    box_labels = []\n",
    "\n",
    "    for ft, con in product(feat_names, conditions):\n",
    "        box_labels.append(f'{ft} {con}')\n",
    "        values = [files_dict[s][con][ft] for s in subs]\n",
    "        box_lists.append(values)\n",
    "    \n",
    "    if isinstance(norm_method, str):\n",
    "        assert norm_method in ['norm', 'std'], 'incorrect norm_method'\n",
    "        box_lists = norm_feat_lists(box_lists=box_lists,\n",
    "                                feat_names=FEAT_SEL,\n",
    "                                norm_method=norm_method)\n",
    "        \n",
    "    return box_lists, box_labels"
   ]
  },
  {
   "cell_type": "markdown",
   "metadata": {},
   "source": []
  },
  {
   "cell_type": "code",
   "execution_count": null,
   "metadata": {},
   "outputs": [],
   "source": [
    "subs = get_unique_subs(ft_path=ft_path)\n",
    "\n",
    "files_dict = load_on_off_first10(subs=subs, ft_path=ft_path,\n",
    "                                 sel_30sec_part='last')\n",
    "# TODO: calculate difference first and last!\n",
    "# TODO: include aDBS\n",
    "files_dict['sub-529DT76'].keys()"
   ]
  },
  {
   "cell_type": "code",
   "execution_count": null,
   "metadata": {},
   "outputs": [],
   "source": [
    "subs = get_unique_subs(ft_path=ft_path)\n",
    "\n",
    "files_dict = load_on_off_first10(subs=subs, ft_path=ft_path)\n",
    "\n",
    "box_lists, box_labels = extract_feature_lists(files_dict=files_dict,\n",
    "                                              feat_names=FEAT_SEL, subs=subs,\n",
    "                                              norm_method='norm',)\n"
   ]
  },
  {
   "cell_type": "code",
   "execution_count": null,
   "metadata": {},
   "outputs": [],
   "source": [
    "SCATTER = True\n",
    "SCATTER_LINES = True\n",
    "\n",
    "SAVE_FIG=False\n",
    "SHOW_FIG=True\n",
    "\n",
    "fig_name = f'firstRun_4feats_cDBSOffvsOn_{NORM_METHOD}'\n",
    "\n",
    "fig, ax = plt.subplots(1, 1, figsize=(8, 6))\n",
    "\n",
    "fontsize=14\n",
    "\n",
    "ax.boxplot(box_lists, positions=np.arange(len(box_lists)),)\n",
    "ax.set_xticklabels(box_labels, rotation=90,\n",
    "                   size=fontsize)\n",
    "if method == 'norm':\n",
    "    ylabel = 'Normalised feature values\\n(against max OFF value)'\n",
    "elif method == 'std':\n",
    "    ylabel = 'Standardised feature values\\n(against OFF values)'\n",
    "\n",
    "if SCATTER:\n",
    "    for i_x, values in enumerate(box_lists):\n",
    "        ax.scatter([i_x] * len(values), values,\n",
    "                   alpha=.3)\n",
    "if SCATTER_LINES:\n",
    "    for i_ft in np.arange(len(FEAT_SEL)):\n",
    "        for i_sub in np.arange(len(box_lists[i_ft])):\n",
    "            y1 = box_lists[i_ft * 2][i_sub]\n",
    "            y2 = box_lists[i_ft * 2 + 1][i_sub]\n",
    "            ax.plot([i_ft*2, i_ft*2+1], [y1, y2],\n",
    "                    c='gray', alpha=.3)\n",
    "\n",
    "ax.set_ylabel(ylabel,\n",
    "              size=fontsize)\n",
    "\n",
    "plt.tick_params(axis='both', labelsize=fontsize, size=fontsize)\n",
    "\n",
    "plt.tight_layout()\n",
    "\n",
    "if SAVE_FIG:\n",
    "    plt.savefig(os.path.join(fig_path, fig_name), dpi=300,\n",
    "                facecolor='w',)\n",
    "if SHOW_FIG: plt.show()\n",
    "else: plt.close()"
   ]
  }
 ],
 "metadata": {
  "kernelspec": {
   "display_name": "retap",
   "language": "python",
   "name": "python3"
  },
  "language_info": {
   "codemirror_mode": {
    "name": "ipython",
    "version": 3
   },
   "file_extension": ".py",
   "mimetype": "text/x-python",
   "name": "python",
   "nbconvert_exporter": "python",
   "pygments_lexer": "ipython3",
   "version": "3.9.13"
  },
  "orig_nbformat": 4
 },
 "nbformat": 4,
 "nbformat_minor": 2
}
